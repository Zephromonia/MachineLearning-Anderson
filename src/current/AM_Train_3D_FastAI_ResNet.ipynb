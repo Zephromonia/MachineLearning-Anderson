{
  "nbformat": 4,
  "nbformat_minor": 0,
  "metadata": {
    "kernelspec": {
      "display_name": "Python 3",
      "language": "python",
      "name": "python3"
    },
    "language_info": {
      "codemirror_mode": {
        "name": "ipython",
        "version": 3
      },
      "file_extension": ".py",
      "mimetype": "text/x-python",
      "name": "python",
      "nbconvert_exporter": "python",
      "pygments_lexer": "ipython3",
      "version": "3.7.0"
    },
    "colab": {
      "name": "AM_Train_3D_FastAI_ResNet.ipynb",
      "provenance": [],
      "collapsed_sections": [
        "bKKA-3NSpeKN",
        "H5zBkbnLpeKY"
      ]
    }
  },
  "cells": [
    {
      "cell_type": "markdown",
      "metadata": {
        "id": "L2GhE2tUpeJ2"
      },
      "source": [
        "# Image recognition of Anderson states"
      ]
    },
    {
      "cell_type": "markdown",
      "metadata": {
        "id": "_902jQztpeJ7"
      },
      "source": [
        "## Preliminaries"
      ]
    },
    {
      "cell_type": "code",
      "metadata": {
        "id": "lKzjTI5lpeJ9"
      },
      "source": [
        "%reload_ext autoreload\n",
        "%autoreload 2\n",
        "%matplotlib inline"
      ],
      "execution_count": 17,
      "outputs": []
    },
    {
      "cell_type": "code",
      "metadata": {
        "scrolled": true,
        "id": "BZCnS3VZpeJ-",
        "colab": {
          "base_uri": "https://localhost:8080/"
        },
        "outputId": "2efa829e-805e-4c99-d12f-2442f8f35444"
      },
      "source": [
        "import torch\n",
        "torch.__version__\n",
        "from torch.utils.data import Dataset, DataLoader\n",
        "#from torchvision import transforms, utils\n",
        "#!pip install torch=='1.7.0'\n",
        "#!pip install torchvision=='0.7.0'\n",
        "import torch\n",
        "import torchvision\n",
        "print(torchvision.__version__)\n",
        "print(torch.__version__)"
      ],
      "execution_count": 18,
      "outputs": [
        {
          "output_type": "stream",
          "text": [
            "0.8.1+cu101\n",
            "1.7.0+cu101\n"
          ],
          "name": "stdout"
        }
      ]
    },
    {
      "cell_type": "code",
      "metadata": {
        "id": "3xWHU6aoazUo"
      },
      "source": [
        "import random"
      ],
      "execution_count": 19,
      "outputs": []
    },
    {
      "cell_type": "code",
      "metadata": {
        "colab": {
          "base_uri": "https://localhost:8080/"
        },
        "id": "8L1ptKV1lydV",
        "outputId": "a06242b3-2c44-4dc6-9f76-476ad69f5d30"
      },
      "source": [
        "#!pip install fastai==1.0.61\r\n",
        "import fastai\r\n",
        "from fastai.collab import *\r\n",
        "#!pip install --upgrade fastai\r\n",
        "#!pip uninstall fastai -y\r\n",
        "print(fastai.__version__)\r\n",
        "from fastai.vision import *\r\n"
      ],
      "execution_count": 20,
      "outputs": [
        {
          "output_type": "stream",
          "text": [
            "1.0.61\n"
          ],
          "name": "stdout"
        }
      ]
    },
    {
      "cell_type": "code",
      "metadata": {
        "id": "0QQfPQJbpeKA"
      },
      "source": [
        "#bs = 64\n",
        "bs = 16  # uncomment this line if you run out of memory even after clicking Kernel->Restart\n",
        "myepoch0 = 4\n",
        "myepoch1 = 2\n",
        "myepoch2 = 2\n",
        "training_fraction = 0.6\n",
        "validation_fraction = 0.1"
      ],
      "execution_count": 21,
      "outputs": []
    },
    {
      "cell_type": "markdown",
      "metadata": {
        "id": "0p08baNGpeKB"
      },
      "source": [
        "## Reading in the image data"
      ]
    },
    {
      "cell_type": "code",
      "metadata": {
        "id": "pkhdoPS2__tG"
      },
      "source": [
        "from google.colab import files"
      ],
      "execution_count": 22,
      "outputs": []
    },
    {
      "cell_type": "code",
      "metadata": {
        "id": "j5PsG75M8Kb5"
      },
      "source": [
        "def make_3D_structure(file, system_size):\r\n",
        "    col = 0\r\n",
        "    row = 0\r\n",
        "    lay = 0\r\n",
        "    \r\n",
        "    system = []\r\n",
        "    for i in range(system_size):\r\n",
        "        system.append([])\r\n",
        "        for j in range(system_size):\r\n",
        "            system[-1].append([])\r\n",
        "            for j in range(system_size):\r\n",
        "                system[-1][-1].append([])\r\n",
        "    #print(len(system))\r\n",
        "    #print(len(system[0]))\r\n",
        "    #print(len(system[0][0]))\r\n",
        "    \r\n",
        "    for line in file:\r\n",
        "        if col == system_size:\r\n",
        "            col = 0\r\n",
        "            row += 1\r\n",
        "        if row == system_size:\r\n",
        "            row = 0\r\n",
        "            lay += 1\r\n",
        "        system[col][row][lay].append(float(line))\r\n",
        "        #print(float(line))\r\n",
        "        col += 1\r\n",
        "    return system\r\n",
        "        "
      ],
      "execution_count": 31,
      "outputs": []
    },
    {
      "cell_type": "code",
      "metadata": {
        "id": "N9wWj7fM8Gp1",
        "colab": {
          "base_uri": "https://localhost:8080/",
          "height": 229
        },
        "outputId": "05849695-297e-40f5-b979-9fd5fb1ceff5"
      },
      "source": [
        "import os\r\n",
        "\r\n",
        "data   = []\r\n",
        "labels = []\r\n",
        "\r\n",
        "datasrc = '/home/epp/phupqr/PX319MLPhases/MachineLearning-Anderson/raw_system_data_refs' #Source of the locations of the data\r\n",
        "\r\n",
        "disorder_systems      = []\r\n",
        "disorder_class_labels = []\r\n",
        "\r\n",
        "for disorder_class_folder in os.scandir(datasrc):                #Go through each of the disorder folders...\r\n",
        "    print(disorder_class_folder.path)\r\n",
        "    disorder_class = disorder_class_folder.path.rsplit('_',1)[1];\r\n",
        "    print(disorder_class)\r\n",
        "    disorder_systems.append([])\r\n",
        "    disorder_class_labels.append(disorder_class)\r\n",
        "    \r\n",
        "    for file in os.scandir(disorder_class_folder.path):          #...find the file in each folder...\r\n",
        "        #print(file)                                             #...\r\n",
        "        the_file = open(file.path, 'r')                          #...open the file to read the locations of the data...\r\n",
        "        \r\n",
        "        number_of_data = 0\r\n",
        "        for line in the_file:                                    #...for each... \r\n",
        "            \r\n",
        "            if (number_of_data < 1):                           #...gather a certain amount of data...\r\n",
        "                print(\" \")\r\n",
        "                number_of_data += 1\r\n",
        "\r\n",
        "                #print(line)\r\n",
        "                line = line.rsplit('\\n',1)[0]\r\n",
        "                raw_data = open(line,'r')\r\n",
        "                system = make_3D_structure(raw_data, 20)\r\n",
        "                #print(system)\r\n",
        "                disorder_systems[-1].append(system)\r\n",
        "                print(\"added system to \" + disorder_class_labels[-1])\r\n",
        "     \r\n"
      ],
      "execution_count": 24,
      "outputs": [
        {
          "output_type": "error",
          "ename": "FileNotFoundError",
          "evalue": "ignored",
          "traceback": [
            "\u001b[0;31m---------------------------------------------------------------------------\u001b[0m",
            "\u001b[0;31mFileNotFoundError\u001b[0m                         Traceback (most recent call last)",
            "\u001b[0;32m<ipython-input-24-583f268406ed>\u001b[0m in \u001b[0;36m<module>\u001b[0;34m()\u001b[0m\n\u001b[1;32m      9\u001b[0m \u001b[0mdisorder_class_labels\u001b[0m \u001b[0;34m=\u001b[0m \u001b[0;34m[\u001b[0m\u001b[0;34m]\u001b[0m\u001b[0;34m\u001b[0m\u001b[0;34m\u001b[0m\u001b[0m\n\u001b[1;32m     10\u001b[0m \u001b[0;34m\u001b[0m\u001b[0m\n\u001b[0;32m---> 11\u001b[0;31m \u001b[0;32mfor\u001b[0m \u001b[0mdisorder_class_folder\u001b[0m \u001b[0;32min\u001b[0m \u001b[0mos\u001b[0m\u001b[0;34m.\u001b[0m\u001b[0mscandir\u001b[0m\u001b[0;34m(\u001b[0m\u001b[0mdatasrc\u001b[0m\u001b[0;34m)\u001b[0m\u001b[0;34m:\u001b[0m                \u001b[0;31m#Go through each of the disorder folders...\u001b[0m\u001b[0;34m\u001b[0m\u001b[0;34m\u001b[0m\u001b[0m\n\u001b[0m\u001b[1;32m     12\u001b[0m     \u001b[0mprint\u001b[0m\u001b[0;34m(\u001b[0m\u001b[0mdisorder_class_folder\u001b[0m\u001b[0;34m.\u001b[0m\u001b[0mpath\u001b[0m\u001b[0;34m)\u001b[0m\u001b[0;34m\u001b[0m\u001b[0;34m\u001b[0m\u001b[0m\n\u001b[1;32m     13\u001b[0m     \u001b[0mdisorder_class\u001b[0m \u001b[0;34m=\u001b[0m \u001b[0mdisorder_class_folder\u001b[0m\u001b[0;34m.\u001b[0m\u001b[0mpath\u001b[0m\u001b[0;34m.\u001b[0m\u001b[0mrsplit\u001b[0m\u001b[0;34m(\u001b[0m\u001b[0;34m'_'\u001b[0m\u001b[0;34m,\u001b[0m\u001b[0;36m1\u001b[0m\u001b[0;34m)\u001b[0m\u001b[0;34m[\u001b[0m\u001b[0;36m1\u001b[0m\u001b[0;34m]\u001b[0m\u001b[0;34m;\u001b[0m\u001b[0;34m\u001b[0m\u001b[0;34m\u001b[0m\u001b[0m\n",
            "\u001b[0;31mFileNotFoundError\u001b[0m: [Errno 2] No such file or directory: '/home/epp/phupqr/PX319MLPhases/MachineLearning-Anderson/raw_system_data_refs'"
          ]
        }
      ]
    },
    {
      "cell_type": "code",
      "metadata": {
        "id": "HrP-ik6upeKD"
      },
      "source": [
        "class ThreeDDataset(Dataset):\n",
        "    def __init__(self, x):\n",
        "        self.x = []\n",
        "        self.y = []\n",
        "        class_ind = 0\n",
        "        for dis_class in x:\n",
        "          for item in dis_class:\n",
        "            self.x.append(item)\n",
        "            self.y.append(class_ind)\n",
        "          class_ind+=1\n",
        "        self.c = len(self.x)\n",
        "\n",
        "        t = True\n",
        "        for dis_class in self.x:\n",
        "          t = t and len(dis_class)==0\n",
        "        self.is_empty=t\n",
        "    \n",
        "    def __len__(self):\n",
        "        return len(self.x)\n",
        "    \n",
        "    def __getitem__(self, i):\n",
        "        return self.x[i],self.y[i]\n",
        "        "
      ],
      "execution_count": 25,
      "outputs": []
    },
    {
      "cell_type": "code",
      "metadata": {
        "id": "Pik8R2VDpeKE"
      },
      "source": [
        "#Data from the path\n",
        "#np.random.seed(1234567)\n",
        "#data = ImageDataBunch.from_folder(path, train=\".\", valid_pct=0.2,\n",
        "        #ds_tfms=get_transforms(do_flip=False,max_rotate=0.,max_warp=0.,max_zoom=1.0,max_lighting=None), \n",
        "                                  #size=256, num_workers=4).normalize(imagenet_stats)\n",
        "        \n",
        "N = 100    #Number of sample 3D systems\n",
        "tensors_training = []  #Each list in this list is a seperate label list\n",
        "tensors_validation = []  #Each list in this list is a seperate label list\n",
        "tensors_testing = []  #Each list in this list is a seperate label list\n",
        "n_labels = 10\n",
        "#labels = []\n",
        "for i in range(n_labels):\n",
        "  tensors_training.append([])\n",
        "  tensors_validation.append([])\n",
        "  tensors_testing.append([])\n",
        "for i in range(N):\n",
        "  ten = torch.rand(3,3,3)\n",
        "  #print(ten)\n",
        "\n",
        "  c_label = random.randint(0,n_labels-1)\n",
        "  #print(c_label)\n",
        "\n",
        "  ran_numb = random.random()\n",
        "\n",
        "  if ran_numb >= 1 - training_fraction:\n",
        "    tensors_training[c_label].append(ten)\n",
        "  \n",
        "  if ran_numb < validation_fraction:\n",
        "    tensors_validation[c_label].append(ten)\n",
        "  \n",
        "  else:\n",
        "    tensors_testing[c_label].append(ten)\n",
        "\n",
        "loader_training = ThreeDDataset(tensors_training)\n",
        "loader_validation = ThreeDDataset(tensors_validation)\n",
        "loader_testing = ThreeDDataset(tensors_testing)\n",
        "\n",
        "databunch = DataBunch.create(loader_training, loader_validation, loader_testing, bs=2, num_workers=1)"
      ],
      "execution_count": 42,
      "outputs": []
    },
    {
      "cell_type": "markdown",
      "metadata": {
        "id": "swgOgJFBpeKF"
      },
      "source": [
        "## Train model"
      ]
    },
    {
      "cell_type": "code",
      "metadata": {
        "id": "xPdsytzlpeKF"
      },
      "source": [
        "learn = cnn_learner(databunch, models.resnet50, metrics=error_rate, pretrained=False)#.to_fp16()"
      ],
      "execution_count": 43,
      "outputs": []
    },
    {
      "cell_type": "code",
      "metadata": {
        "id": "5G2slNP0peKG",
        "colab": {
          "base_uri": "https://localhost:8080/"
        },
        "outputId": "17a55620-34e6-43d8-aba6-db543f269188"
      },
      "source": [
        "learn.model"
      ],
      "execution_count": 44,
      "outputs": [
        {
          "output_type": "execute_result",
          "data": {
            "text/plain": [
              "Sequential(\n",
              "  (0): Sequential(\n",
              "    (0): Conv2d(3, 64, kernel_size=(7, 7), stride=(2, 2), padding=(3, 3), bias=False)\n",
              "    (1): BatchNorm2d(64, eps=1e-05, momentum=0.1, affine=True, track_running_stats=True)\n",
              "    (2): ReLU(inplace=True)\n",
              "    (3): MaxPool2d(kernel_size=3, stride=2, padding=1, dilation=1, ceil_mode=False)\n",
              "    (4): Sequential(\n",
              "      (0): Bottleneck(\n",
              "        (conv1): Conv2d(64, 64, kernel_size=(1, 1), stride=(1, 1), bias=False)\n",
              "        (bn1): BatchNorm2d(64, eps=1e-05, momentum=0.1, affine=True, track_running_stats=True)\n",
              "        (conv2): Conv2d(64, 64, kernel_size=(3, 3), stride=(1, 1), padding=(1, 1), bias=False)\n",
              "        (bn2): BatchNorm2d(64, eps=1e-05, momentum=0.1, affine=True, track_running_stats=True)\n",
              "        (conv3): Conv2d(64, 256, kernel_size=(1, 1), stride=(1, 1), bias=False)\n",
              "        (bn3): BatchNorm2d(256, eps=1e-05, momentum=0.1, affine=True, track_running_stats=True)\n",
              "        (relu): ReLU(inplace=True)\n",
              "        (downsample): Sequential(\n",
              "          (0): Conv2d(64, 256, kernel_size=(1, 1), stride=(1, 1), bias=False)\n",
              "          (1): BatchNorm2d(256, eps=1e-05, momentum=0.1, affine=True, track_running_stats=True)\n",
              "        )\n",
              "      )\n",
              "      (1): Bottleneck(\n",
              "        (conv1): Conv2d(256, 64, kernel_size=(1, 1), stride=(1, 1), bias=False)\n",
              "        (bn1): BatchNorm2d(64, eps=1e-05, momentum=0.1, affine=True, track_running_stats=True)\n",
              "        (conv2): Conv2d(64, 64, kernel_size=(3, 3), stride=(1, 1), padding=(1, 1), bias=False)\n",
              "        (bn2): BatchNorm2d(64, eps=1e-05, momentum=0.1, affine=True, track_running_stats=True)\n",
              "        (conv3): Conv2d(64, 256, kernel_size=(1, 1), stride=(1, 1), bias=False)\n",
              "        (bn3): BatchNorm2d(256, eps=1e-05, momentum=0.1, affine=True, track_running_stats=True)\n",
              "        (relu): ReLU(inplace=True)\n",
              "      )\n",
              "      (2): Bottleneck(\n",
              "        (conv1): Conv2d(256, 64, kernel_size=(1, 1), stride=(1, 1), bias=False)\n",
              "        (bn1): BatchNorm2d(64, eps=1e-05, momentum=0.1, affine=True, track_running_stats=True)\n",
              "        (conv2): Conv2d(64, 64, kernel_size=(3, 3), stride=(1, 1), padding=(1, 1), bias=False)\n",
              "        (bn2): BatchNorm2d(64, eps=1e-05, momentum=0.1, affine=True, track_running_stats=True)\n",
              "        (conv3): Conv2d(64, 256, kernel_size=(1, 1), stride=(1, 1), bias=False)\n",
              "        (bn3): BatchNorm2d(256, eps=1e-05, momentum=0.1, affine=True, track_running_stats=True)\n",
              "        (relu): ReLU(inplace=True)\n",
              "      )\n",
              "    )\n",
              "    (5): Sequential(\n",
              "      (0): Bottleneck(\n",
              "        (conv1): Conv2d(256, 128, kernel_size=(1, 1), stride=(1, 1), bias=False)\n",
              "        (bn1): BatchNorm2d(128, eps=1e-05, momentum=0.1, affine=True, track_running_stats=True)\n",
              "        (conv2): Conv2d(128, 128, kernel_size=(3, 3), stride=(2, 2), padding=(1, 1), bias=False)\n",
              "        (bn2): BatchNorm2d(128, eps=1e-05, momentum=0.1, affine=True, track_running_stats=True)\n",
              "        (conv3): Conv2d(128, 512, kernel_size=(1, 1), stride=(1, 1), bias=False)\n",
              "        (bn3): BatchNorm2d(512, eps=1e-05, momentum=0.1, affine=True, track_running_stats=True)\n",
              "        (relu): ReLU(inplace=True)\n",
              "        (downsample): Sequential(\n",
              "          (0): Conv2d(256, 512, kernel_size=(1, 1), stride=(2, 2), bias=False)\n",
              "          (1): BatchNorm2d(512, eps=1e-05, momentum=0.1, affine=True, track_running_stats=True)\n",
              "        )\n",
              "      )\n",
              "      (1): Bottleneck(\n",
              "        (conv1): Conv2d(512, 128, kernel_size=(1, 1), stride=(1, 1), bias=False)\n",
              "        (bn1): BatchNorm2d(128, eps=1e-05, momentum=0.1, affine=True, track_running_stats=True)\n",
              "        (conv2): Conv2d(128, 128, kernel_size=(3, 3), stride=(1, 1), padding=(1, 1), bias=False)\n",
              "        (bn2): BatchNorm2d(128, eps=1e-05, momentum=0.1, affine=True, track_running_stats=True)\n",
              "        (conv3): Conv2d(128, 512, kernel_size=(1, 1), stride=(1, 1), bias=False)\n",
              "        (bn3): BatchNorm2d(512, eps=1e-05, momentum=0.1, affine=True, track_running_stats=True)\n",
              "        (relu): ReLU(inplace=True)\n",
              "      )\n",
              "      (2): Bottleneck(\n",
              "        (conv1): Conv2d(512, 128, kernel_size=(1, 1), stride=(1, 1), bias=False)\n",
              "        (bn1): BatchNorm2d(128, eps=1e-05, momentum=0.1, affine=True, track_running_stats=True)\n",
              "        (conv2): Conv2d(128, 128, kernel_size=(3, 3), stride=(1, 1), padding=(1, 1), bias=False)\n",
              "        (bn2): BatchNorm2d(128, eps=1e-05, momentum=0.1, affine=True, track_running_stats=True)\n",
              "        (conv3): Conv2d(128, 512, kernel_size=(1, 1), stride=(1, 1), bias=False)\n",
              "        (bn3): BatchNorm2d(512, eps=1e-05, momentum=0.1, affine=True, track_running_stats=True)\n",
              "        (relu): ReLU(inplace=True)\n",
              "      )\n",
              "      (3): Bottleneck(\n",
              "        (conv1): Conv2d(512, 128, kernel_size=(1, 1), stride=(1, 1), bias=False)\n",
              "        (bn1): BatchNorm2d(128, eps=1e-05, momentum=0.1, affine=True, track_running_stats=True)\n",
              "        (conv2): Conv2d(128, 128, kernel_size=(3, 3), stride=(1, 1), padding=(1, 1), bias=False)\n",
              "        (bn2): BatchNorm2d(128, eps=1e-05, momentum=0.1, affine=True, track_running_stats=True)\n",
              "        (conv3): Conv2d(128, 512, kernel_size=(1, 1), stride=(1, 1), bias=False)\n",
              "        (bn3): BatchNorm2d(512, eps=1e-05, momentum=0.1, affine=True, track_running_stats=True)\n",
              "        (relu): ReLU(inplace=True)\n",
              "      )\n",
              "    )\n",
              "    (6): Sequential(\n",
              "      (0): Bottleneck(\n",
              "        (conv1): Conv2d(512, 256, kernel_size=(1, 1), stride=(1, 1), bias=False)\n",
              "        (bn1): BatchNorm2d(256, eps=1e-05, momentum=0.1, affine=True, track_running_stats=True)\n",
              "        (conv2): Conv2d(256, 256, kernel_size=(3, 3), stride=(2, 2), padding=(1, 1), bias=False)\n",
              "        (bn2): BatchNorm2d(256, eps=1e-05, momentum=0.1, affine=True, track_running_stats=True)\n",
              "        (conv3): Conv2d(256, 1024, kernel_size=(1, 1), stride=(1, 1), bias=False)\n",
              "        (bn3): BatchNorm2d(1024, eps=1e-05, momentum=0.1, affine=True, track_running_stats=True)\n",
              "        (relu): ReLU(inplace=True)\n",
              "        (downsample): Sequential(\n",
              "          (0): Conv2d(512, 1024, kernel_size=(1, 1), stride=(2, 2), bias=False)\n",
              "          (1): BatchNorm2d(1024, eps=1e-05, momentum=0.1, affine=True, track_running_stats=True)\n",
              "        )\n",
              "      )\n",
              "      (1): Bottleneck(\n",
              "        (conv1): Conv2d(1024, 256, kernel_size=(1, 1), stride=(1, 1), bias=False)\n",
              "        (bn1): BatchNorm2d(256, eps=1e-05, momentum=0.1, affine=True, track_running_stats=True)\n",
              "        (conv2): Conv2d(256, 256, kernel_size=(3, 3), stride=(1, 1), padding=(1, 1), bias=False)\n",
              "        (bn2): BatchNorm2d(256, eps=1e-05, momentum=0.1, affine=True, track_running_stats=True)\n",
              "        (conv3): Conv2d(256, 1024, kernel_size=(1, 1), stride=(1, 1), bias=False)\n",
              "        (bn3): BatchNorm2d(1024, eps=1e-05, momentum=0.1, affine=True, track_running_stats=True)\n",
              "        (relu): ReLU(inplace=True)\n",
              "      )\n",
              "      (2): Bottleneck(\n",
              "        (conv1): Conv2d(1024, 256, kernel_size=(1, 1), stride=(1, 1), bias=False)\n",
              "        (bn1): BatchNorm2d(256, eps=1e-05, momentum=0.1, affine=True, track_running_stats=True)\n",
              "        (conv2): Conv2d(256, 256, kernel_size=(3, 3), stride=(1, 1), padding=(1, 1), bias=False)\n",
              "        (bn2): BatchNorm2d(256, eps=1e-05, momentum=0.1, affine=True, track_running_stats=True)\n",
              "        (conv3): Conv2d(256, 1024, kernel_size=(1, 1), stride=(1, 1), bias=False)\n",
              "        (bn3): BatchNorm2d(1024, eps=1e-05, momentum=0.1, affine=True, track_running_stats=True)\n",
              "        (relu): ReLU(inplace=True)\n",
              "      )\n",
              "      (3): Bottleneck(\n",
              "        (conv1): Conv2d(1024, 256, kernel_size=(1, 1), stride=(1, 1), bias=False)\n",
              "        (bn1): BatchNorm2d(256, eps=1e-05, momentum=0.1, affine=True, track_running_stats=True)\n",
              "        (conv2): Conv2d(256, 256, kernel_size=(3, 3), stride=(1, 1), padding=(1, 1), bias=False)\n",
              "        (bn2): BatchNorm2d(256, eps=1e-05, momentum=0.1, affine=True, track_running_stats=True)\n",
              "        (conv3): Conv2d(256, 1024, kernel_size=(1, 1), stride=(1, 1), bias=False)\n",
              "        (bn3): BatchNorm2d(1024, eps=1e-05, momentum=0.1, affine=True, track_running_stats=True)\n",
              "        (relu): ReLU(inplace=True)\n",
              "      )\n",
              "      (4): Bottleneck(\n",
              "        (conv1): Conv2d(1024, 256, kernel_size=(1, 1), stride=(1, 1), bias=False)\n",
              "        (bn1): BatchNorm2d(256, eps=1e-05, momentum=0.1, affine=True, track_running_stats=True)\n",
              "        (conv2): Conv2d(256, 256, kernel_size=(3, 3), stride=(1, 1), padding=(1, 1), bias=False)\n",
              "        (bn2): BatchNorm2d(256, eps=1e-05, momentum=0.1, affine=True, track_running_stats=True)\n",
              "        (conv3): Conv2d(256, 1024, kernel_size=(1, 1), stride=(1, 1), bias=False)\n",
              "        (bn3): BatchNorm2d(1024, eps=1e-05, momentum=0.1, affine=True, track_running_stats=True)\n",
              "        (relu): ReLU(inplace=True)\n",
              "      )\n",
              "      (5): Bottleneck(\n",
              "        (conv1): Conv2d(1024, 256, kernel_size=(1, 1), stride=(1, 1), bias=False)\n",
              "        (bn1): BatchNorm2d(256, eps=1e-05, momentum=0.1, affine=True, track_running_stats=True)\n",
              "        (conv2): Conv2d(256, 256, kernel_size=(3, 3), stride=(1, 1), padding=(1, 1), bias=False)\n",
              "        (bn2): BatchNorm2d(256, eps=1e-05, momentum=0.1, affine=True, track_running_stats=True)\n",
              "        (conv3): Conv2d(256, 1024, kernel_size=(1, 1), stride=(1, 1), bias=False)\n",
              "        (bn3): BatchNorm2d(1024, eps=1e-05, momentum=0.1, affine=True, track_running_stats=True)\n",
              "        (relu): ReLU(inplace=True)\n",
              "      )\n",
              "    )\n",
              "    (7): Sequential(\n",
              "      (0): Bottleneck(\n",
              "        (conv1): Conv2d(1024, 512, kernel_size=(1, 1), stride=(1, 1), bias=False)\n",
              "        (bn1): BatchNorm2d(512, eps=1e-05, momentum=0.1, affine=True, track_running_stats=True)\n",
              "        (conv2): Conv2d(512, 512, kernel_size=(3, 3), stride=(2, 2), padding=(1, 1), bias=False)\n",
              "        (bn2): BatchNorm2d(512, eps=1e-05, momentum=0.1, affine=True, track_running_stats=True)\n",
              "        (conv3): Conv2d(512, 2048, kernel_size=(1, 1), stride=(1, 1), bias=False)\n",
              "        (bn3): BatchNorm2d(2048, eps=1e-05, momentum=0.1, affine=True, track_running_stats=True)\n",
              "        (relu): ReLU(inplace=True)\n",
              "        (downsample): Sequential(\n",
              "          (0): Conv2d(1024, 2048, kernel_size=(1, 1), stride=(2, 2), bias=False)\n",
              "          (1): BatchNorm2d(2048, eps=1e-05, momentum=0.1, affine=True, track_running_stats=True)\n",
              "        )\n",
              "      )\n",
              "      (1): Bottleneck(\n",
              "        (conv1): Conv2d(2048, 512, kernel_size=(1, 1), stride=(1, 1), bias=False)\n",
              "        (bn1): BatchNorm2d(512, eps=1e-05, momentum=0.1, affine=True, track_running_stats=True)\n",
              "        (conv2): Conv2d(512, 512, kernel_size=(3, 3), stride=(1, 1), padding=(1, 1), bias=False)\n",
              "        (bn2): BatchNorm2d(512, eps=1e-05, momentum=0.1, affine=True, track_running_stats=True)\n",
              "        (conv3): Conv2d(512, 2048, kernel_size=(1, 1), stride=(1, 1), bias=False)\n",
              "        (bn3): BatchNorm2d(2048, eps=1e-05, momentum=0.1, affine=True, track_running_stats=True)\n",
              "        (relu): ReLU(inplace=True)\n",
              "      )\n",
              "      (2): Bottleneck(\n",
              "        (conv1): Conv2d(2048, 512, kernel_size=(1, 1), stride=(1, 1), bias=False)\n",
              "        (bn1): BatchNorm2d(512, eps=1e-05, momentum=0.1, affine=True, track_running_stats=True)\n",
              "        (conv2): Conv2d(512, 512, kernel_size=(3, 3), stride=(1, 1), padding=(1, 1), bias=False)\n",
              "        (bn2): BatchNorm2d(512, eps=1e-05, momentum=0.1, affine=True, track_running_stats=True)\n",
              "        (conv3): Conv2d(512, 2048, kernel_size=(1, 1), stride=(1, 1), bias=False)\n",
              "        (bn3): BatchNorm2d(2048, eps=1e-05, momentum=0.1, affine=True, track_running_stats=True)\n",
              "        (relu): ReLU(inplace=True)\n",
              "      )\n",
              "    )\n",
              "  )\n",
              "  (1): Sequential(\n",
              "    (0): AdaptiveConcatPool2d(\n",
              "      (ap): AdaptiveAvgPool2d(output_size=1)\n",
              "      (mp): AdaptiveMaxPool2d(output_size=1)\n",
              "    )\n",
              "    (1): Flatten()\n",
              "    (2): BatchNorm1d(4096, eps=1e-05, momentum=0.1, affine=True, track_running_stats=True)\n",
              "    (3): Dropout(p=0.25, inplace=False)\n",
              "    (4): Linear(in_features=4096, out_features=512, bias=True)\n",
              "    (5): ReLU(inplace=True)\n",
              "    (6): BatchNorm1d(512, eps=1e-05, momentum=0.1, affine=True, track_running_stats=True)\n",
              "    (7): Dropout(p=0.5, inplace=False)\n",
              "    (8): Linear(in_features=512, out_features=59, bias=True)\n",
              "  )\n",
              ")"
            ]
          },
          "metadata": {
            "tags": []
          },
          "execution_count": 44
        }
      ]
    },
    {
      "cell_type": "code",
      "metadata": {
        "scrolled": true,
        "id": "OFonlJZbpeKH",
        "colab": {
          "base_uri": "https://localhost:8080/"
        },
        "outputId": "66ed97f3-7c4b-4820-ef18-f6afc314b627"
      },
      "source": [
        "print(learn.summary())"
      ],
      "execution_count": 35,
      "outputs": [
        {
          "output_type": "stream",
          "text": [
            "Sequential\n",
            "======================================================================\n",
            "Layer (type)         Output Shape         Param #    Trainable \n",
            "======================================================================\n",
            "Conv2d               [64, 2, 2]           9,408      True      \n",
            "______________________________________________________________________\n",
            "BatchNorm2d          [64, 2, 2]           128        True      \n",
            "______________________________________________________________________\n",
            "ReLU                 [64, 2, 2]           0          False     \n",
            "______________________________________________________________________\n",
            "MaxPool2d            [64, 1, 1]           0          False     \n",
            "______________________________________________________________________\n",
            "Conv2d               [64, 1, 1]           4,096      True      \n",
            "______________________________________________________________________\n",
            "BatchNorm2d          [64, 1, 1]           128        True      \n",
            "______________________________________________________________________\n",
            "Conv2d               [64, 1, 1]           36,864     True      \n",
            "______________________________________________________________________\n",
            "BatchNorm2d          [64, 1, 1]           128        True      \n",
            "______________________________________________________________________\n",
            "Conv2d               [256, 1, 1]          16,384     True      \n",
            "______________________________________________________________________\n",
            "BatchNorm2d          [256, 1, 1]          512        True      \n",
            "______________________________________________________________________\n",
            "ReLU                 [256, 1, 1]          0          False     \n",
            "______________________________________________________________________\n",
            "Conv2d               [256, 1, 1]          16,384     True      \n",
            "______________________________________________________________________\n",
            "BatchNorm2d          [256, 1, 1]          512        True      \n",
            "______________________________________________________________________\n",
            "Conv2d               [64, 1, 1]           16,384     True      \n",
            "______________________________________________________________________\n",
            "BatchNorm2d          [64, 1, 1]           128        True      \n",
            "______________________________________________________________________\n",
            "Conv2d               [64, 1, 1]           36,864     True      \n",
            "______________________________________________________________________\n",
            "BatchNorm2d          [64, 1, 1]           128        True      \n",
            "______________________________________________________________________\n",
            "Conv2d               [256, 1, 1]          16,384     True      \n",
            "______________________________________________________________________\n",
            "BatchNorm2d          [256, 1, 1]          512        True      \n",
            "______________________________________________________________________\n",
            "ReLU                 [256, 1, 1]          0          False     \n",
            "______________________________________________________________________\n",
            "Conv2d               [64, 1, 1]           16,384     True      \n",
            "______________________________________________________________________\n",
            "BatchNorm2d          [64, 1, 1]           128        True      \n",
            "______________________________________________________________________\n",
            "Conv2d               [64, 1, 1]           36,864     True      \n",
            "______________________________________________________________________\n",
            "BatchNorm2d          [64, 1, 1]           128        True      \n",
            "______________________________________________________________________\n",
            "Conv2d               [256, 1, 1]          16,384     True      \n",
            "______________________________________________________________________\n",
            "BatchNorm2d          [256, 1, 1]          512        True      \n",
            "______________________________________________________________________\n",
            "ReLU                 [256, 1, 1]          0          False     \n",
            "______________________________________________________________________\n",
            "Conv2d               [128, 1, 1]          32,768     True      \n",
            "______________________________________________________________________\n",
            "BatchNorm2d          [128, 1, 1]          256        True      \n",
            "______________________________________________________________________\n",
            "Conv2d               [128, 1, 1]          147,456    True      \n",
            "______________________________________________________________________\n",
            "BatchNorm2d          [128, 1, 1]          256        True      \n",
            "______________________________________________________________________\n",
            "Conv2d               [512, 1, 1]          65,536     True      \n",
            "______________________________________________________________________\n",
            "BatchNorm2d          [512, 1, 1]          1,024      True      \n",
            "______________________________________________________________________\n",
            "ReLU                 [512, 1, 1]          0          False     \n",
            "______________________________________________________________________\n",
            "Conv2d               [512, 1, 1]          131,072    True      \n",
            "______________________________________________________________________\n",
            "BatchNorm2d          [512, 1, 1]          1,024      True      \n",
            "______________________________________________________________________\n",
            "Conv2d               [128, 1, 1]          65,536     True      \n",
            "______________________________________________________________________\n",
            "BatchNorm2d          [128, 1, 1]          256        True      \n",
            "______________________________________________________________________\n",
            "Conv2d               [128, 1, 1]          147,456    True      \n",
            "______________________________________________________________________\n",
            "BatchNorm2d          [128, 1, 1]          256        True      \n",
            "______________________________________________________________________\n",
            "Conv2d               [512, 1, 1]          65,536     True      \n",
            "______________________________________________________________________\n",
            "BatchNorm2d          [512, 1, 1]          1,024      True      \n",
            "______________________________________________________________________\n",
            "ReLU                 [512, 1, 1]          0          False     \n",
            "______________________________________________________________________\n",
            "Conv2d               [128, 1, 1]          65,536     True      \n",
            "______________________________________________________________________\n",
            "BatchNorm2d          [128, 1, 1]          256        True      \n",
            "______________________________________________________________________\n",
            "Conv2d               [128, 1, 1]          147,456    True      \n",
            "______________________________________________________________________\n",
            "BatchNorm2d          [128, 1, 1]          256        True      \n",
            "______________________________________________________________________\n",
            "Conv2d               [512, 1, 1]          65,536     True      \n",
            "______________________________________________________________________\n",
            "BatchNorm2d          [512, 1, 1]          1,024      True      \n",
            "______________________________________________________________________\n",
            "ReLU                 [512, 1, 1]          0          False     \n",
            "______________________________________________________________________\n",
            "Conv2d               [128, 1, 1]          65,536     True      \n",
            "______________________________________________________________________\n",
            "BatchNorm2d          [128, 1, 1]          256        True      \n",
            "______________________________________________________________________\n",
            "Conv2d               [128, 1, 1]          147,456    True      \n",
            "______________________________________________________________________\n",
            "BatchNorm2d          [128, 1, 1]          256        True      \n",
            "______________________________________________________________________\n",
            "Conv2d               [512, 1, 1]          65,536     True      \n",
            "______________________________________________________________________\n",
            "BatchNorm2d          [512, 1, 1]          1,024      True      \n",
            "______________________________________________________________________\n",
            "ReLU                 [512, 1, 1]          0          False     \n",
            "______________________________________________________________________\n",
            "Conv2d               [256, 1, 1]          131,072    True      \n",
            "______________________________________________________________________\n",
            "BatchNorm2d          [256, 1, 1]          512        True      \n",
            "______________________________________________________________________\n",
            "Conv2d               [256, 1, 1]          589,824    True      \n",
            "______________________________________________________________________\n",
            "BatchNorm2d          [256, 1, 1]          512        True      \n",
            "______________________________________________________________________\n",
            "Conv2d               [1024, 1, 1]         262,144    True      \n",
            "______________________________________________________________________\n",
            "BatchNorm2d          [1024, 1, 1]         2,048      True      \n",
            "______________________________________________________________________\n",
            "ReLU                 [1024, 1, 1]         0          False     \n",
            "______________________________________________________________________\n",
            "Conv2d               [1024, 1, 1]         524,288    True      \n",
            "______________________________________________________________________\n",
            "BatchNorm2d          [1024, 1, 1]         2,048      True      \n",
            "______________________________________________________________________\n",
            "Conv2d               [256, 1, 1]          262,144    True      \n",
            "______________________________________________________________________\n",
            "BatchNorm2d          [256, 1, 1]          512        True      \n",
            "______________________________________________________________________\n",
            "Conv2d               [256, 1, 1]          589,824    True      \n",
            "______________________________________________________________________\n",
            "BatchNorm2d          [256, 1, 1]          512        True      \n",
            "______________________________________________________________________\n",
            "Conv2d               [1024, 1, 1]         262,144    True      \n",
            "______________________________________________________________________\n",
            "BatchNorm2d          [1024, 1, 1]         2,048      True      \n",
            "______________________________________________________________________\n",
            "ReLU                 [1024, 1, 1]         0          False     \n",
            "______________________________________________________________________\n",
            "Conv2d               [256, 1, 1]          262,144    True      \n",
            "______________________________________________________________________\n",
            "BatchNorm2d          [256, 1, 1]          512        True      \n",
            "______________________________________________________________________\n",
            "Conv2d               [256, 1, 1]          589,824    True      \n",
            "______________________________________________________________________\n",
            "BatchNorm2d          [256, 1, 1]          512        True      \n",
            "______________________________________________________________________\n",
            "Conv2d               [1024, 1, 1]         262,144    True      \n",
            "______________________________________________________________________\n",
            "BatchNorm2d          [1024, 1, 1]         2,048      True      \n",
            "______________________________________________________________________\n",
            "ReLU                 [1024, 1, 1]         0          False     \n",
            "______________________________________________________________________\n",
            "Conv2d               [256, 1, 1]          262,144    True      \n",
            "______________________________________________________________________\n",
            "BatchNorm2d          [256, 1, 1]          512        True      \n",
            "______________________________________________________________________\n",
            "Conv2d               [256, 1, 1]          589,824    True      \n",
            "______________________________________________________________________\n",
            "BatchNorm2d          [256, 1, 1]          512        True      \n",
            "______________________________________________________________________\n",
            "Conv2d               [1024, 1, 1]         262,144    True      \n",
            "______________________________________________________________________\n",
            "BatchNorm2d          [1024, 1, 1]         2,048      True      \n",
            "______________________________________________________________________\n",
            "ReLU                 [1024, 1, 1]         0          False     \n",
            "______________________________________________________________________\n",
            "Conv2d               [256, 1, 1]          262,144    True      \n",
            "______________________________________________________________________\n",
            "BatchNorm2d          [256, 1, 1]          512        True      \n",
            "______________________________________________________________________\n",
            "Conv2d               [256, 1, 1]          589,824    True      \n",
            "______________________________________________________________________\n",
            "BatchNorm2d          [256, 1, 1]          512        True      \n",
            "______________________________________________________________________\n",
            "Conv2d               [1024, 1, 1]         262,144    True      \n",
            "______________________________________________________________________\n",
            "BatchNorm2d          [1024, 1, 1]         2,048      True      \n",
            "______________________________________________________________________\n",
            "ReLU                 [1024, 1, 1]         0          False     \n",
            "______________________________________________________________________\n",
            "Conv2d               [256, 1, 1]          262,144    True      \n",
            "______________________________________________________________________\n",
            "BatchNorm2d          [256, 1, 1]          512        True      \n",
            "______________________________________________________________________\n",
            "Conv2d               [256, 1, 1]          589,824    True      \n",
            "______________________________________________________________________\n",
            "BatchNorm2d          [256, 1, 1]          512        True      \n",
            "______________________________________________________________________\n",
            "Conv2d               [1024, 1, 1]         262,144    True      \n",
            "______________________________________________________________________\n",
            "BatchNorm2d          [1024, 1, 1]         2,048      True      \n",
            "______________________________________________________________________\n",
            "ReLU                 [1024, 1, 1]         0          False     \n",
            "______________________________________________________________________\n",
            "Conv2d               [512, 1, 1]          524,288    True      \n",
            "______________________________________________________________________\n",
            "BatchNorm2d          [512, 1, 1]          1,024      True      \n",
            "______________________________________________________________________\n",
            "Conv2d               [512, 1, 1]          2,359,296  True      \n",
            "______________________________________________________________________\n",
            "BatchNorm2d          [512, 1, 1]          1,024      True      \n",
            "______________________________________________________________________\n",
            "Conv2d               [2048, 1, 1]         1,048,576  True      \n",
            "______________________________________________________________________\n",
            "BatchNorm2d          [2048, 1, 1]         4,096      True      \n",
            "______________________________________________________________________\n",
            "ReLU                 [2048, 1, 1]         0          False     \n",
            "______________________________________________________________________\n",
            "Conv2d               [2048, 1, 1]         2,097,152  True      \n",
            "______________________________________________________________________\n",
            "BatchNorm2d          [2048, 1, 1]         4,096      True      \n",
            "______________________________________________________________________\n",
            "Conv2d               [512, 1, 1]          1,048,576  True      \n",
            "______________________________________________________________________\n",
            "BatchNorm2d          [512, 1, 1]          1,024      True      \n",
            "______________________________________________________________________\n",
            "Conv2d               [512, 1, 1]          2,359,296  True      \n",
            "______________________________________________________________________\n",
            "BatchNorm2d          [512, 1, 1]          1,024      True      \n",
            "______________________________________________________________________\n",
            "Conv2d               [2048, 1, 1]         1,048,576  True      \n",
            "______________________________________________________________________\n",
            "BatchNorm2d          [2048, 1, 1]         4,096      True      \n",
            "______________________________________________________________________\n",
            "ReLU                 [2048, 1, 1]         0          False     \n",
            "______________________________________________________________________\n",
            "Conv2d               [512, 1, 1]          1,048,576  True      \n",
            "______________________________________________________________________\n",
            "BatchNorm2d          [512, 1, 1]          1,024      True      \n",
            "______________________________________________________________________\n",
            "Conv2d               [512, 1, 1]          2,359,296  True      \n",
            "______________________________________________________________________\n",
            "BatchNorm2d          [512, 1, 1]          1,024      True      \n",
            "______________________________________________________________________\n",
            "Conv2d               [2048, 1, 1]         1,048,576  True      \n",
            "______________________________________________________________________\n",
            "BatchNorm2d          [2048, 1, 1]         4,096      True      \n",
            "______________________________________________________________________\n",
            "ReLU                 [2048, 1, 1]         0          False     \n",
            "______________________________________________________________________\n",
            "AdaptiveAvgPool2d    [2048, 1, 1]         0          False     \n",
            "______________________________________________________________________\n",
            "AdaptiveMaxPool2d    [2048, 1, 1]         0          False     \n",
            "______________________________________________________________________\n",
            "Flatten              [4096]               0          False     \n",
            "______________________________________________________________________\n",
            "BatchNorm1d          [4096]               8,192      True      \n",
            "______________________________________________________________________\n",
            "Dropout              [4096]               0          False     \n",
            "______________________________________________________________________\n",
            "Linear               [512]                2,097,664  True      \n",
            "______________________________________________________________________\n",
            "ReLU                 [512]                0          False     \n",
            "______________________________________________________________________\n",
            "BatchNorm1d          [512]                1,024      True      \n",
            "______________________________________________________________________\n",
            "Dropout              [512]                0          False     \n",
            "______________________________________________________________________\n",
            "Linear               [5]                  2,565      True      \n",
            "______________________________________________________________________\n",
            "\n",
            "Total params: 25,617,477\n",
            "Total trainable params: 25,617,477\n",
            "Total non-trainable params: 0\n",
            "Optimized with 'torch.optim.adam.Adam', betas=(0.9, 0.99)\n",
            "Using true weight decay as discussed in https://www.fast.ai/2018/07/02/adam-weight-decay/ \n",
            "Loss function : function\n",
            "======================================================================\n",
            "Callbacks functions applied \n",
            "\n"
          ],
          "name": "stdout"
        }
      ]
    },
    {
      "cell_type": "code",
      "metadata": {
        "id": "cjHzzrzhpeKI",
        "colab": {
          "base_uri": "https://localhost:8080/",
          "height": 648
        },
        "outputId": "3dde4cdc-5842-449d-9c53-58c620096904"
      },
      "source": [
        "learn.lr_find()\n",
        "learn.recorder.plot()\n",
        "learn.recorder.plot_lr()"
      ],
      "execution_count": 46,
      "outputs": [
        {
          "output_type": "display_data",
          "data": {
            "text/html": [
              "\n",
              "    <div>\n",
              "        <style>\n",
              "            /* Turns off some styling */\n",
              "            progress {\n",
              "                /* gets rid of default border in Firefox and Opera. */\n",
              "                border: none;\n",
              "                /* Needs to be in here for Safari polyfill so background images work as expected. */\n",
              "                background-size: auto;\n",
              "            }\n",
              "            .progress-bar-interrupted, .progress-bar-interrupted::-webkit-progress-bar {\n",
              "                background: #F44336;\n",
              "            }\n",
              "        </style>\n",
              "      <progress value='0' class='' max='4' style='width:300px; height:20px; vertical-align: middle;'></progress>\n",
              "      0.00% [0/4 00:00<00:00]\n",
              "    </div>\n",
              "    \n",
              "<table border=\"1\" class=\"dataframe\">\n",
              "  <thead>\n",
              "    <tr style=\"text-align: left;\">\n",
              "      <th>epoch</th>\n",
              "      <th>train_loss</th>\n",
              "      <th>valid_loss</th>\n",
              "      <th>error_rate</th>\n",
              "      <th>time</th>\n",
              "    </tr>\n",
              "  </thead>\n",
              "  <tbody>\n",
              "  </tbody>\n",
              "</table><p>\n",
              "\n",
              "    <div>\n",
              "        <style>\n",
              "            /* Turns off some styling */\n",
              "            progress {\n",
              "                /* gets rid of default border in Firefox and Opera. */\n",
              "                border: none;\n",
              "                /* Needs to be in here for Safari polyfill so background images work as expected. */\n",
              "                background-size: auto;\n",
              "            }\n",
              "            .progress-bar-interrupted, .progress-bar-interrupted::-webkit-progress-bar {\n",
              "                background: #F44336;\n",
              "            }\n",
              "        </style>\n",
              "      <progress value='24' class='' max='29' style='width:300px; height:20px; vertical-align: middle;'></progress>\n",
              "      82.76% [24/29 00:17<00:03 0.1798]\n",
              "    </div>\n",
              "    "
            ],
            "text/plain": [
              "<IPython.core.display.HTML object>"
            ]
          },
          "metadata": {
            "tags": []
          }
        },
        {
          "output_type": "stream",
          "text": [
            "LR Finder is complete, type {learner_name}.recorder.plot() to see the graph.\n"
          ],
          "name": "stdout"
        },
        {
          "output_type": "display_data",
          "data": {
            "image/png": "[encoded data removed]",
            "text/plain": [
              "<Figure size 432x288 with 1 Axes>"
            ]
          },
          "metadata": {
            "tags": [],
            "needs_background": "light"
          }
        },
        {
          "output_type": "display_data",
          "data": {
            "image/png": "[encoded data removed]",
            "text/plain": [
              "<Figure size 432x288 with 1 Axes>"
            ]
          },
          "metadata": {
            "tags": [],
            "needs_background": "light"
          }
        }
      ]
    },
    {
      "cell_type": "code",
      "metadata": {
        "id": "KDd21nKTpeKI"
      },
      "source": [
        "lr=1.e-2"
      ],
      "execution_count": 47,
      "outputs": []
    },
    {
      "cell_type": "code",
      "metadata": {
        "id": "nZJ1frbopeKJ",
        "colab": {
          "base_uri": "https://localhost:8080/",
          "height": 166
        },
        "outputId": "db96d80c-34bf-47b3-9cf2-bc04313c2c07"
      },
      "source": [
        "learn.fit_one_cycle(myepoch0,lr)"
      ],
      "execution_count": 48,
      "outputs": [
        {
          "output_type": "display_data",
          "data": {
            "text/html": [
              "<table border=\"1\" class=\"dataframe\">\n",
              "  <thead>\n",
              "    <tr style=\"text-align: left;\">\n",
              "      <th>epoch</th>\n",
              "      <th>train_loss</th>\n",
              "      <th>valid_loss</th>\n",
              "      <th>error_rate</th>\n",
              "      <th>time</th>\n",
              "    </tr>\n",
              "  </thead>\n",
              "  <tbody>\n",
              "    <tr>\n",
              "      <td>0</td>\n",
              "      <td>0.015407</td>\n",
              "      <td>0.239900</td>\n",
              "      <td>0.866667</td>\n",
              "      <td>00:21</td>\n",
              "    </tr>\n",
              "    <tr>\n",
              "      <td>1</td>\n",
              "      <td>-0.194607</td>\n",
              "      <td>-1.845638</td>\n",
              "      <td>1.000000</td>\n",
              "      <td>00:21</td>\n",
              "    </tr>\n",
              "    <tr>\n",
              "      <td>2</td>\n",
              "      <td>-2.535473</td>\n",
              "      <td>-3.489229</td>\n",
              "      <td>1.000000</td>\n",
              "      <td>00:21</td>\n",
              "    </tr>\n",
              "    <tr>\n",
              "      <td>3</td>\n",
              "      <td>-3.607434</td>\n",
              "      <td>-3.564662</td>\n",
              "      <td>1.000000</td>\n",
              "      <td>00:21</td>\n",
              "    </tr>\n",
              "  </tbody>\n",
              "</table>"
            ],
            "text/plain": [
              "<IPython.core.display.HTML object>"
            ]
          },
          "metadata": {
            "tags": []
          }
        }
      ]
    },
    {
      "cell_type": "code",
      "metadata": {
        "id": "pAyuQRDNpeKK"
      },
      "source": [
        "learn.save('stage-0')"
      ],
      "execution_count": 49,
      "outputs": []
    },
    {
      "cell_type": "code",
      "metadata": {
        "id": "NT_5S1w1peKK",
        "colab": {
          "base_uri": "https://localhost:8080/",
          "height": 279
        },
        "outputId": "252ad29b-1691-4c52-ff59-1b1a185a1a32"
      },
      "source": [
        "learn.show_results()"
      ],
      "execution_count": 50,
      "outputs": [
        {
          "output_type": "error",
          "ename": "AttributeError",
          "evalue": "ignored",
          "traceback": [
            "\u001b[0;31m---------------------------------------------------------------------------\u001b[0m",
            "\u001b[0;31mAttributeError\u001b[0m                            Traceback (most recent call last)",
            "\u001b[0;32m<ipython-input-50-c3b657dcc9ae>\u001b[0m in \u001b[0;36m<module>\u001b[0;34m()\u001b[0m\n\u001b[0;32m----> 1\u001b[0;31m \u001b[0mlearn\u001b[0m\u001b[0;34m.\u001b[0m\u001b[0mshow_results\u001b[0m\u001b[0;34m(\u001b[0m\u001b[0;34m)\u001b[0m\u001b[0;34m\u001b[0m\u001b[0;34m\u001b[0m\u001b[0m\n\u001b[0m",
            "\u001b[0;32m/usr/local/lib/python3.6/dist-packages/fastai/basic_train.py\u001b[0m in \u001b[0;36mshow_results\u001b[0;34m(self, ds_type, rows, **kwargs)\u001b[0m\n\u001b[1;32m    397\u001b[0m         \u001b[0;31m#TODO: get read of has_arg x and split_kwargs_by_func if possible\u001b[0m\u001b[0;34m\u001b[0m\u001b[0;34m\u001b[0m\u001b[0;34m\u001b[0m\u001b[0m\n\u001b[1;32m    398\u001b[0m         \u001b[0;31m#TODO: simplify this and refactor with pred_batch(...reconstruct=True)\u001b[0m\u001b[0;34m\u001b[0m\u001b[0;34m\u001b[0m\u001b[0;34m\u001b[0m\u001b[0m\n\u001b[0;32m--> 399\u001b[0;31m         \u001b[0mn_items\u001b[0m \u001b[0;34m=\u001b[0m \u001b[0mrows\u001b[0m \u001b[0;34m**\u001b[0m \u001b[0;36m2\u001b[0m \u001b[0;32mif\u001b[0m \u001b[0mself\u001b[0m\u001b[0;34m.\u001b[0m\u001b[0mdata\u001b[0m\u001b[0;34m.\u001b[0m\u001b[0mtrain_ds\u001b[0m\u001b[0;34m.\u001b[0m\u001b[0mx\u001b[0m\u001b[0;34m.\u001b[0m\u001b[0m_square_show_res\u001b[0m \u001b[0;32melse\u001b[0m \u001b[0mrows\u001b[0m\u001b[0;34m\u001b[0m\u001b[0;34m\u001b[0m\u001b[0m\n\u001b[0m\u001b[1;32m    400\u001b[0m         \u001b[0;32mif\u001b[0m \u001b[0mself\u001b[0m\u001b[0;34m.\u001b[0m\u001b[0mdl\u001b[0m\u001b[0;34m(\u001b[0m\u001b[0mds_type\u001b[0m\u001b[0;34m)\u001b[0m\u001b[0;34m.\u001b[0m\u001b[0mbatch_size\u001b[0m \u001b[0;34m<\u001b[0m \u001b[0mn_items\u001b[0m\u001b[0;34m:\u001b[0m \u001b[0mn_items\u001b[0m \u001b[0;34m=\u001b[0m \u001b[0mself\u001b[0m\u001b[0;34m.\u001b[0m\u001b[0mdl\u001b[0m\u001b[0;34m(\u001b[0m\u001b[0mds_type\u001b[0m\u001b[0;34m)\u001b[0m\u001b[0;34m.\u001b[0m\u001b[0mbatch_size\u001b[0m\u001b[0;34m\u001b[0m\u001b[0;34m\u001b[0m\u001b[0m\n\u001b[1;32m    401\u001b[0m         \u001b[0mds\u001b[0m \u001b[0;34m=\u001b[0m \u001b[0mself\u001b[0m\u001b[0;34m.\u001b[0m\u001b[0mdl\u001b[0m\u001b[0;34m(\u001b[0m\u001b[0mds_type\u001b[0m\u001b[0;34m)\u001b[0m\u001b[0;34m.\u001b[0m\u001b[0mdataset\u001b[0m\u001b[0;34m\u001b[0m\u001b[0;34m\u001b[0m\u001b[0m\n",
            "\u001b[0;31mAttributeError\u001b[0m: 'list' object has no attribute '_square_show_res'"
          ]
        }
      ]
    },
    {
      "cell_type": "code",
      "metadata": {
        "id": "hZtAGKCcpeKN",
        "colab": {
          "base_uri": "https://localhost:8080/",
          "height": 646
        },
        "outputId": "f3895158-3f95-40b8-c4e9-5dc18a3f106a"
      },
      "source": [
        "learn.lr_find()\n",
        "learn.recorder.plot()\n",
        "learn.recorder.plot_lr()"
      ],
      "execution_count": 53,
      "outputs": [
        {
          "output_type": "display_data",
          "data": {
            "text/html": [
              "\n",
              "    <div>\n",
              "        <style>\n",
              "            /* Turns off some styling */\n",
              "            progress {\n",
              "                /* gets rid of default border in Firefox and Opera. */\n",
              "                border: none;\n",
              "                /* Needs to be in here for Safari polyfill so background images work as expected. */\n",
              "                background-size: auto;\n",
              "            }\n",
              "            .progress-bar-interrupted, .progress-bar-interrupted::-webkit-progress-bar {\n",
              "                background: #F44336;\n",
              "            }\n",
              "        </style>\n",
              "      <progress value='0' class='' max='4' style='width:300px; height:20px; vertical-align: middle;'></progress>\n",
              "      0.00% [0/4 00:00<00:00]\n",
              "    </div>\n",
              "    \n",
              "<table border=\"1\" class=\"dataframe\">\n",
              "  <thead>\n",
              "    <tr style=\"text-align: left;\">\n",
              "      <th>epoch</th>\n",
              "      <th>train_loss</th>\n",
              "      <th>valid_loss</th>\n",
              "      <th>error_rate</th>\n",
              "      <th>time</th>\n",
              "    </tr>\n",
              "  </thead>\n",
              "  <tbody>\n",
              "  </tbody>\n",
              "</table><p>\n",
              "\n",
              "    <div>\n",
              "        <style>\n",
              "            /* Turns off some styling */\n",
              "            progress {\n",
              "                /* gets rid of default border in Firefox and Opera. */\n",
              "                border: none;\n",
              "                /* Needs to be in here for Safari polyfill so background images work as expected. */\n",
              "                background-size: auto;\n",
              "            }\n",
              "            .progress-bar-interrupted, .progress-bar-interrupted::-webkit-progress-bar {\n",
              "                background: #F44336;\n",
              "            }\n",
              "        </style>\n",
              "      <progress value='5' class='' max='29' style='width:300px; height:20px; vertical-align: middle;'></progress>\n",
              "      17.24% [5/29 00:03<00:19 0.2909]\n",
              "    </div>\n",
              "    "
            ],
            "text/plain": [
              "<IPython.core.display.HTML object>"
            ]
          },
          "metadata": {
            "tags": []
          }
        },
        {
          "output_type": "stream",
          "text": [
            "LR Finder is complete, type {learner_name}.recorder.plot() to see the graph.\n"
          ],
          "name": "stdout"
        },
        {
          "output_type": "display_data",
          "data": {
            "image/png": "[encoded data removed]",
            "text/plain": [
              "<Figure size 432x288 with 1 Axes>"
            ]
          },
          "metadata": {
            "tags": [],
            "needs_background": "light"
          }
        },
        {
          "output_type": "display_data",
          "data": {
            "image/png": "[encoded data removed]",
            "text/plain": [
              "<Figure size 432x288 with 1 Axes>"
            ]
          },
          "metadata": {
            "tags": [],
            "needs_background": "light"
          }
        }
      ]
    },
    {
      "cell_type": "markdown",
      "metadata": {
        "id": "bKKA-3NSpeKN"
      },
      "source": [
        "## Heatmap"
      ]
    },
    {
      "cell_type": "code",
      "metadata": {
        "id": "iHZe4iNXpeKO"
      },
      "source": [
        "idx=0\n",
        "x,y = loader.valid_ds[idx]\n",
        "x.show()\n",
        "data.valid_ds.y[idx]"
      ],
      "execution_count": null,
      "outputs": []
    },
    {
      "cell_type": "code",
      "metadata": {
        "id": "AXPQJ22EpeKP"
      },
      "source": [
        "m = learn.model.eval();"
      ],
      "execution_count": null,
      "outputs": []
    },
    {
      "cell_type": "code",
      "metadata": {
        "id": "81o3t7U2peKQ"
      },
      "source": [
        "xb,_ = data.one_item(x)\n",
        "xb_im = Image(data.denorm(xb)[0])\n",
        "xb = xb.cuda()"
      ],
      "execution_count": null,
      "outputs": []
    },
    {
      "cell_type": "code",
      "metadata": {
        "id": "czToEiH3peKQ"
      },
      "source": [
        "from fastai.callbacks.hooks import *"
      ],
      "execution_count": null,
      "outputs": []
    },
    {
      "cell_type": "code",
      "metadata": {
        "id": "jq35wV0upeKR"
      },
      "source": [
        "def hooked_backward(cat=y):\n",
        "    with hook_output(m[0]) as hook_a: \n",
        "        with hook_output(m[0], grad=True) as hook_g:\n",
        "            preds = m(xb)\n",
        "            preds[0,int(cat)].backward()\n",
        "    return hook_a,hook_g"
      ],
      "execution_count": null,
      "outputs": []
    },
    {
      "cell_type": "code",
      "metadata": {
        "id": "ozTPGNaOpeKS"
      },
      "source": [
        "hook_a,hook_g = hooked_backward()"
      ],
      "execution_count": null,
      "outputs": []
    },
    {
      "cell_type": "code",
      "metadata": {
        "id": "WePWvFMnpeKS"
      },
      "source": [
        "acts  = hook_a.stored[0].cpu()\n",
        "acts.shape"
      ],
      "execution_count": null,
      "outputs": []
    },
    {
      "cell_type": "code",
      "metadata": {
        "id": "px4IUkp0peKT"
      },
      "source": [
        "avg_acts = acts.mean(0)\n",
        "avg_acts.shape"
      ],
      "execution_count": null,
      "outputs": []
    },
    {
      "cell_type": "code",
      "metadata": {
        "id": "fFyklJqypeKT"
      },
      "source": [
        "def show_heatmap(hm):\n",
        "    _,ax = plt.subplots()\n",
        "    xb_im.show(ax)\n",
        "    ax.imshow(hm, alpha=0.6, extent=(0,256,256,0),\n",
        "              interpolation='bilinear', cmap='magma');"
      ],
      "execution_count": null,
      "outputs": []
    },
    {
      "cell_type": "code",
      "metadata": {
        "id": "wWkwWe9opeKU"
      },
      "source": [
        "show_heatmap(avg_acts)"
      ],
      "execution_count": null,
      "outputs": []
    },
    {
      "cell_type": "markdown",
      "metadata": {
        "id": "Z_tKVxRBpeKU"
      },
      "source": [
        "## refining the model - stage 1"
      ]
    },
    {
      "cell_type": "code",
      "metadata": {
        "id": "kVNI-mHFpeKV"
      },
      "source": [
        "learn.load('stage-0');"
      ],
      "execution_count": null,
      "outputs": []
    },
    {
      "cell_type": "code",
      "metadata": {
        "id": "2KOd15xxpeKV"
      },
      "source": [
        "learn.unfreeze()"
      ],
      "execution_count": null,
      "outputs": []
    },
    {
      "cell_type": "code",
      "metadata": {
        "id": "HxwQp1BGpeKV"
      },
      "source": [
        "learn.lr_find()"
      ],
      "execution_count": null,
      "outputs": []
    },
    {
      "cell_type": "code",
      "metadata": {
        "id": "CyAwSb0hpeKW"
      },
      "source": [
        "learn.recorder.plot()\n",
        "#learn.recorder.plot_losses()\n",
        "# learn.recorder.plot_lr()"
      ],
      "execution_count": null,
      "outputs": []
    },
    {
      "cell_type": "code",
      "metadata": {
        "id": "zyri1vLwpeKX"
      },
      "source": [
        "learn.fit_one_cycle(myepoch1, max_lr=slice(3e-6,3e-4))"
      ],
      "execution_count": null,
      "outputs": []
    },
    {
      "cell_type": "code",
      "metadata": {
        "id": "YjwH2I1BpeKX"
      },
      "source": [
        "learn.save('stage-1')"
      ],
      "execution_count": null,
      "outputs": []
    },
    {
      "cell_type": "markdown",
      "metadata": {
        "id": "H5zBkbnLpeKY"
      },
      "source": [
        "## refining the model further - stage 2"
      ]
    },
    {
      "cell_type": "code",
      "metadata": {
        "id": "Val8XHzJpeKa"
      },
      "source": [
        "learn.load('stage-1');\n",
        "learn.unfreeze();\n",
        "learn.lr_find()\n",
        "learn.recorder.plot()"
      ],
      "execution_count": null,
      "outputs": []
    },
    {
      "cell_type": "code",
      "metadata": {
        "id": "ivmJgYaSpeKb"
      },
      "source": [
        "learn.fit_one_cycle(myepoch2, max_lr=slice(3e-6,1e-5))"
      ],
      "execution_count": null,
      "outputs": []
    },
    {
      "cell_type": "code",
      "metadata": {
        "id": "TF5XjzXLpeKc"
      },
      "source": [
        "learn.save('stage-2')"
      ],
      "execution_count": null,
      "outputs": []
    },
    {
      "cell_type": "markdown",
      "metadata": {
        "id": "s2iP569WpeKc"
      },
      "source": [
        "## Interpretation"
      ]
    },
    {
      "cell_type": "code",
      "metadata": {
        "id": "tOXsaUPdpeKd"
      },
      "source": [
        "learn.load('stage-0');"
      ],
      "execution_count": null,
      "outputs": []
    },
    {
      "cell_type": "code",
      "metadata": {
        "id": "XCR9JMB9peKd"
      },
      "source": [
        "interp = ClassificationInterpretation.from_learner(learn)"
      ],
      "execution_count": null,
      "outputs": []
    },
    {
      "cell_type": "code",
      "metadata": {
        "id": "baBrBABvpeKd"
      },
      "source": [
        "interp.plot_confusion_matrix(figsize=(10,10))"
      ],
      "execution_count": null,
      "outputs": []
    },
    {
      "cell_type": "code",
      "metadata": {
        "id": "mp7aWj0VpeKe"
      },
      "source": [
        "learn.load('stage-1');"
      ],
      "execution_count": null,
      "outputs": []
    },
    {
      "cell_type": "code",
      "metadata": {
        "id": "Pt0VwdgSpeKe"
      },
      "source": [
        "interp = ClassificationInterpretation.from_learner(learn)"
      ],
      "execution_count": null,
      "outputs": []
    },
    {
      "cell_type": "code",
      "metadata": {
        "id": "XTBrNXX6peKf"
      },
      "source": [
        "interp.plot_confusion_matrix(figsize=(10,10))"
      ],
      "execution_count": null,
      "outputs": []
    },
    {
      "cell_type": "code",
      "metadata": {
        "id": "dpvzts8upeKf"
      },
      "source": [
        "learn.load('stage-2');"
      ],
      "execution_count": null,
      "outputs": []
    },
    {
      "cell_type": "code",
      "metadata": {
        "id": "NpkeQdzVpeKf"
      },
      "source": [
        "interp = ClassificationInterpretation.from_learner(learn)"
      ],
      "execution_count": null,
      "outputs": []
    },
    {
      "cell_type": "code",
      "metadata": {
        "id": "BgLcBBbEpeKg"
      },
      "source": [
        "interp.plot_confusion_matrix(figsize=(10,10))"
      ],
      "execution_count": null,
      "outputs": []
    },
    {
      "cell_type": "code",
      "metadata": {
        "id": "II9S72AJpeKg"
      },
      "source": [
        ""
      ],
      "execution_count": null,
      "outputs": []
    }
  ]
}