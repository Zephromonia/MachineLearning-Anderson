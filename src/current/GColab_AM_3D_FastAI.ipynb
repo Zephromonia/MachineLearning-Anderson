{
  "nbformat": 4,
  "nbformat_minor": 0,
  "metadata": {
    "colab": {
      "name": "GColab_AM_Train_3D_FastAI_ResNet (12).ipynb",
      "provenance": [],
      "collapsed_sections": [
        "_902jQztpeJ7",
        "h-pqPbXCzjOP",
        "b4JNeT1F0Tg0",
        "Z4VMQWV5gDeh",
        "Ohh1dFxEDklD",
        "D7MgG-ik0bO_",
        "edNsxJUdm5gj",
        "fdXDS-clMNXq",
        "YRFtaJpnL-vu",
        "CFdTKB0Gt7Mw",
        "bpNV7I5UEN5h",
        "s2iP569WpeKc",
        "cvwdpOPp1VLc"
      ],
      "toc_visible": true
    },
    "kernelspec": {
      "display_name": "Python 3",
      "language": "python",
      "name": "python3"
    },
    "language_info": {
      "codemirror_mode": {
        "name": "ipython",
        "version": 3
      },
      "file_extension": ".py",
      "mimetype": "text/x-python",
      "name": "python",
      "nbconvert_exporter": "python",
      "pygments_lexer": "ipython3",
      "version": "3.7.0"
    },
    "accelerator": "TPU"
  },
  "cells": [
    {
      "cell_type": "markdown",
      "metadata": {
        "id": "L2GhE2tUpeJ2"
      },
      "source": [
        "Image recognition of Anderson states"
      ]
    },
    {
      "cell_type": "markdown",
      "metadata": {
        "id": "_902jQztpeJ7"
      },
      "source": [
        "## Preliminaries"
      ]
    },
    {
      "cell_type": "code",
      "metadata": {
        "id": "lKzjTI5lpeJ9"
      },
      "source": [
        "%reload_ext autoreload\n",
        "%autoreload 2\n",
        "%matplotlib inline"
      ],
      "execution_count": null,
      "outputs": []
    },
    {
      "cell_type": "markdown",
      "metadata": {
        "id": "K6CB7zxkqOQE"
      },
      "source": [
        "Checking for GPU"
      ]
    },
    {
      "cell_type": "code",
      "metadata": {
        "id": "y6wqhy4IqNXl"
      },
      "source": [
        "#import tensorflow as tf\r\n",
        "#from tensorflow.python.client import device_lib\r\n",
        "\r\n",
        "#print(tf.test.gpu_device_name())\r\n",
        "#print(device_lib.list_local_devices())\r\n",
        "\r\n",
        "#!cat /proc/meminfo"
      ],
      "execution_count": null,
      "outputs": []
    },
    {
      "cell_type": "markdown",
      "metadata": {
        "id": "PhA7iijKy51s"
      },
      "source": [
        "Checking for TPU"
      ]
    },
    {
      "cell_type": "code",
      "metadata": {
        "id": "XAPEEIDCyxDM",
        "colab": {
          "base_uri": "https://localhost:8080/"
        },
        "outputId": "93d9a4bb-49a9-4160-e7e2-3484863eebf8"
      },
      "source": [
        "import os\r\n",
        "assert os.environ['COLAB_TPU_ADDR']\r\n",
        "Path = 'grpc://'+os.environ['COLAB_TPU_ADDR']\r\n",
        "print('TPU Address:', Path)"
      ],
      "execution_count": null,
      "outputs": [
        {
          "output_type": "stream",
          "text": [
            "TPU Address: grpc://10.114.229.202:8470\n"
          ],
          "name": "stdout"
        }
      ]
    },
    {
      "cell_type": "code",
      "metadata": {
        "colab": {
          "base_uri": "https://localhost:8080/"
        },
        "id": "BZCnS3VZpeJ-",
        "scrolled": true,
        "outputId": "cfcf32ea-85b6-4e66-b506-7b67c55136e0"
      },
      "source": [
        "import torch\n",
        "import torch.nn\n",
        "torch.__version__\n",
        "from torch.utils.data import Dataset, DataLoader\n",
        "#from torchvision import transforms, utils\n",
        "#!pip install torch=='1.7.0'\n",
        "#!pip install torchvision=='0.8.1'\n",
        "import torch\n",
        "import torchvision\n",
        "print(torchvision.__version__)\n",
        "print(torch.__version__)"
      ],
      "execution_count": null,
      "outputs": [
        {
          "output_type": "stream",
          "text": [
            "0.8.1+cu101\n",
            "1.7.0+cu101\n"
          ],
          "name": "stdout"
        }
      ]
    },
    {
      "cell_type": "code",
      "metadata": {
        "id": "3xWHU6aoazUo"
      },
      "source": [
        "import random\r\n",
        "import math"
      ],
      "execution_count": null,
      "outputs": []
    },
    {
      "cell_type": "code",
      "metadata": {
        "colab": {
          "base_uri": "https://localhost:8080/"
        },
        "id": "8L1ptKV1lydV",
        "outputId": "b0b552f3-70e9-4464-98a8-900986e32e80"
      },
      "source": [
        "#!pip install fastai==1.0.61\r\n",
        "import fastai\r\n",
        "from fastai.collab import *\r\n",
        "#!pip install --upgrade fastai\r\n",
        "#!pip uninstall fastai -y\r\n",
        "print(fastai.__version__)\r\n",
        "from fastai.vision import *\r\n"
      ],
      "execution_count": null,
      "outputs": [
        {
          "output_type": "stream",
          "text": [
            "1.0.61\n"
          ],
          "name": "stdout"
        }
      ]
    },
    {
      "cell_type": "code",
      "metadata": {
        "colab": {
          "base_uri": "https://localhost:8080/"
        },
        "id": "Bx87JLJOWBI-",
        "outputId": "8c391fb1-30e5-4959-c405-87567bc5020b"
      },
      "source": [
        "from google.colab import drive\n",
        "drive.mount('/content/drive', force_remount=True)"
      ],
      "execution_count": null,
      "outputs": [
        {
          "output_type": "stream",
          "text": [
            "Mounted at /content/drive\n"
          ],
          "name": "stdout"
        }
      ]
    },
    {
      "cell_type": "markdown",
      "metadata": {
        "id": "4VKdGxziD1ej"
      },
      "source": [
        "#Functions and main methods"
      ]
    },
    {
      "cell_type": "markdown",
      "metadata": {
        "id": "h-pqPbXCzjOP"
      },
      "source": [
        "## Generic Functions\r\n"
      ]
    },
    {
      "cell_type": "code",
      "metadata": {
        "id": "y3keJI43Yb6M"
      },
      "source": [
        "def get_files(folder):\r\n",
        "  dir = '/content/drive/MyDrive/csvdata/'+folder+'/'\r\n",
        "  N = 1    #Desired number of input systems per class\r\n",
        "  files = !ls -l {dir}\r\n",
        "  print(files)\r\n",
        "  files.reverse()\r\n",
        "  files.pop()\r\n",
        "  for i in range(len(files)):\r\n",
        "    files[i] = files[i].rsplit(' ',1)[1]\r\n",
        "    print(files[i])\r\n",
        "  return dir,files"
      ],
      "execution_count": null,
      "outputs": []
    },
    {
      "cell_type": "code",
      "metadata": {
        "id": "SAFNQ9PiXeDr"
      },
      "source": [
        "def to_list(list):\r\n",
        "  py_list = []\r\n",
        "  for i in list:\r\n",
        "    py_list.append(float(i))\r\n",
        "  return py_list"
      ],
      "execution_count": null,
      "outputs": []
    },
    {
      "cell_type": "markdown",
      "metadata": {
        "id": "b4JNeT1F0Tg0"
      },
      "source": [
        "##Object definitions"
      ]
    },
    {
      "cell_type": "markdown",
      "metadata": {
        "id": "M5sO9ug8f111"
      },
      "source": [
        "**Definition of our custom Dataset and label_list class for confusion matrix**"
      ]
    },
    {
      "cell_type": "code",
      "metadata": {
        "id": "HrP-ik6upeKD"
      },
      "source": [
        "class label_list():\n",
        "  def __init__(self, data, label_names):\n",
        "    self.classes = label_names\n",
        "    self.items = data\n",
        "  def get(self,i):\n",
        "    return self.items[i]\n",
        "  def len(self):\n",
        "    return len(self.classes)\n",
        "        "
      ],
      "execution_count": null,
      "outputs": []
    },
    {
      "cell_type": "code",
      "metadata": {
        "id": "3j7EqTKRw8b4"
      },
      "source": [
        "class ThreeDDataset(Dataset):\r\n",
        "    def __init__(self, x, y):\r\n",
        "        self.x = []\r\n",
        "        self.y = []\r\n",
        "        class_ind = 0\r\n",
        "        for dis_class in x:\r\n",
        "          for item in dis_class:\r\n",
        "            self.x.append(item)\r\n",
        "            self.y.append(class_ind)\r\n",
        "          class_ind+=1\r\n",
        "        \r\n",
        "        def seed():\r\n",
        "          return 0.1234\r\n",
        "\r\n",
        "        random.shuffle(self.x, seed)\r\n",
        "        random.shuffle(self.y, seed)\r\n",
        "\r\n",
        "        self.y = label_list(self.y, y)\r\n",
        "        #print(\"data: \", len(self.x))\r\n",
        "        #print(\"labels: \", self.y.len(), self.y.items)\r\n",
        "        \r\n",
        "        self.c = len(self.y.classes)\r\n",
        "\r\n",
        "        t = True\r\n",
        "        for dis_class in x:\r\n",
        "          t = (t and len(dis_class)==0)\r\n",
        "        self.is_empty=t\r\n",
        "    \r\n",
        "    def __len__(self):\r\n",
        "        return len(self.x)\r\n",
        "    \r\n",
        "    def __getitem__(self, i):\r\n",
        "        return self.x[i],self.y.get(i)"
      ],
      "execution_count": null,
      "outputs": []
    },
    {
      "cell_type": "markdown",
      "metadata": {
        "id": "eC9aWxpqf98Z"
      },
      "source": [
        "**Definition of our custom Neural Network Model (not yet in use) **"
      ]
    },
    {
      "cell_type": "code",
      "metadata": {
        "colab": {
          "base_uri": "https://localhost:8080/"
        },
        "id": "x0HvC38sfz-x",
        "outputId": "4e25940f-aed2-4441-83a6-7326487bab72"
      },
      "source": [
        "class NNet(nn.Module):\r\n",
        "    def __init__(self, num_classes=17):\r\n",
        "        super(NNet, self).__init__()\r\n",
        "        self.layers = nn.Sequential(\r\n",
        "          nn.Conv2d(20,64,5),\r\n",
        "          nn.ReLU(),\r\n",
        "          nn.Conv2d(64,64,5),\r\n",
        "          nn.ReLU()\r\n",
        "        )\r\n",
        "\r\n",
        "    def forward(self, x):\r\n",
        "        out = self.layers(x)\r\n",
        "        return out\r\n",
        "print(NNet)\r\n"
      ],
      "execution_count": null,
      "outputs": [
        {
          "output_type": "stream",
          "text": [
            "<class '__main__.NNet'>\n"
          ],
          "name": "stdout"
        }
      ]
    },
    {
      "cell_type": "markdown",
      "metadata": {
        "id": "Z4VMQWV5gDeh"
      },
      "source": [
        "##Load data from folders"
      ]
    },
    {
      "cell_type": "code",
      "metadata": {
        "id": "2ptuv26PHfMy"
      },
      "source": [
        "def make_3D_structure(file, system_size):\r\n",
        "    col = 0\r\n",
        "    row = 0\r\n",
        "    lay = 0\r\n",
        "    \r\n",
        "    real_3d_with_channel_system = []\r\n",
        "    system = []\r\n",
        "    for i in range(system_size):\r\n",
        "        system.append([])\r\n",
        "        for j in range(system_size):\r\n",
        "            system[-1].append([])\r\n",
        "            for j in range(system_size):\r\n",
        "                system[-1][-1].append([])\r\n",
        "    #print(len(system))\r\n",
        "    #print(len(system[0]))\r\n",
        "    #print(len(system[0][0]))\r\n",
        "    \r\n",
        "    for line in file:\r\n",
        "        if col == system_size:\r\n",
        "            col = 0\r\n",
        "            row += 1\r\n",
        "        if row == system_size:\r\n",
        "            row = 0\r\n",
        "            lay += 1\r\n",
        "        system[col][row][lay] = float(line)\r\n",
        "        #print(float(line))\r\n",
        "        col += 1\r\n",
        "    real_3d_with_channel_system.append(system)\r\n",
        "    return system"
      ],
      "execution_count": null,
      "outputs": []
    },
    {
      "cell_type": "code",
      "metadata": {
        "id": "vfJuOKV1UjD5"
      },
      "source": [
        "global loaded_training\r\n",
        "global loaded_validation\r\n",
        "global loaded_testing\r\n",
        "global loaded_labels\r\n",
        "loaded_training   = {}\r\n",
        "loaded_validation = {}\r\n",
        "loaded_testing    = {}\r\n",
        "loaded_labels     = {}"
      ],
      "execution_count": null,
      "outputs": []
    },
    {
      "cell_type": "code",
      "metadata": {
        "id": "Pik8R2VDpeKE"
      },
      "source": [
        "import pandas as pd\n",
        "import io\n",
        "\n",
        "def prepare_datasets(folder,d_type,seed, batch_size=1, binning=True,bin_size=1, skip_amount=0, extr=False):\n",
        "  if extr:\n",
        "    binning = False\n",
        "    skip_amount = 0\n",
        "    \n",
        "  folder = folder + d_type + '_' + 'seed' + seed\n",
        "  loaded = False\n",
        "  class_skipping = (skip_amount>0)\n",
        "\n",
        "  loaded = False\n",
        "  if str(folder) in loaded_training.keys():\n",
        "    print(\"Found pre-loaded data \" + folder)\n",
        "    tensors_training   = loaded_training[str(folder)]\n",
        "    tensors_validation = loaded_validation[str(folder)]\n",
        "    tensors_testing    = loaded_testing[str(folder)]\n",
        "    labels             = loaded_labels[str(folder)]\n",
        "    loaded = True\n",
        "\n",
        "  if not loaded:\n",
        "    if d_type=='validation':\n",
        "      training_fraction  =0.1\n",
        "      validation_fraction=0.99\n",
        "    elif d_type=='training':\n",
        "      training_fraction  =t_f_default\n",
        "      validation_fraction=v_f_default\n",
        "\n",
        "    dir = '/content/drive/MyDrive/csvdata/'+folder+'/'\n",
        "    files = !ls -l {dir}\n",
        "    files.reverse()\n",
        "    files.pop()\n",
        "    for i in range(len(files)):\n",
        "      files[i] = files[i].rsplit(' ',1)[1]\n",
        "\n",
        "\n",
        "    tensors_training   = []  #Each list in this list is a seperate label list\n",
        "    tensors_validation = []  #\n",
        "    tensors_testing    = []  #\n",
        "    global n_labels\n",
        "    n_labels = len(files)    #Defined by the number of data csv files\n",
        "    print(\"Number of classes: \", n_labels)\n",
        "\n",
        "    labels = []\n",
        "    class_val = 0\n",
        "    for class_file in files:\n",
        "      \"\"\"\n",
        "      Add new class to the tensors list, read the systems one by one out \n",
        "      of the data file then add that data to the correct class list in tensors\n",
        "      and add the name of the disorder class to the labels list   \n",
        "      \"\"\"\n",
        "      tensors_training.append([])\n",
        "      tensors_validation.append([])\n",
        "      tensors_testing.append([])\n",
        "      print(class_file)\n",
        "      disorder_class = class_file.rsplit('-',1)[0]\n",
        "      disorder_class = disorder_class.rsplit('W',1)[1]\n",
        "      labels.append(disorder_class)\n",
        "\n",
        "      with open(dir+class_file, 'r') as f:\n",
        "        df = pd.read_csv(f)\n",
        "\n",
        "      for i in range(len(df.transpose())-1):         \n",
        "        \"\"\"\n",
        "        Go through each system and add them to the data\n",
        "        \"\"\"           \n",
        "        ThreeD_array = make_3D_structure(to_list(df[str(i)]),20)\n",
        "        system = torch.tensor(ThreeD_array)\n",
        "\n",
        "        ran_numb = random.random()\n",
        "        if ran_numb >= 1 - training_fraction:\n",
        "          tensors_training[-1].append(system)\n",
        "        \n",
        "        elif ran_numb < validation_fraction:\n",
        "          tensors_validation[-1].append(system)\n",
        "        \n",
        "        else:\n",
        "          tensors_testing[-1].append(system)\n",
        "      class_val+=1\n",
        "    print(labels)\n",
        "\n",
        "    if str(folder) not in loaded_training.keys():   #Saving the models in a global dictionary for faster loading later\n",
        "      print(\"No pre-existing data \" + folder + \". Saving in dictionary\")\n",
        "      loaded_training[str(folder)]   = tensors_training\n",
        "      loaded_validation[str(folder)] = tensors_validation\n",
        "      loaded_testing[str(folder)]    = tensors_testing\n",
        "      loaded_labels[str(folder)]     = labels\n",
        "\n",
        "\n",
        "    \n",
        "  if class_skipping:    #Skipping every 'skip_amount' classes\n",
        "    new_labels = []\n",
        "    for i in range(len(labels)):\n",
        "      if i*(skip_amount+1) > len(labels)-1:\n",
        "        break\n",
        "      new_labels.append(labels[i*(skip_amount+1)])\n",
        "    labels = new_labels\n",
        "    print(labels)\n",
        "\n",
        "    new_tensors_training = []\n",
        "    for i in range(len(tensors_training)):\n",
        "      if i*(skip_amount+1) > len(tensors_training)-1:\n",
        "        break\n",
        "      new_tensors_training.append(tensors_training[i*(skip_amount+1)])\n",
        "    tensors_training = new_tensors_training\n",
        "\n",
        "    new_tensors_validation = []\n",
        "    for i in range(len(tensors_validation)):\n",
        "      if i*(skip_amount+1) > len(tensors_validation)-1:\n",
        "        break\n",
        "      new_tensors_validation.append(tensors_validation[i*(skip_amount+1)])\n",
        "    tensors_validation = new_tensors_validation\n",
        "\n",
        "    new_tensors_testing = []\n",
        "    for i in range(len(tensors_testing)):\n",
        "      if i*(skip_amount+1) > len(tensors_testing)-1:\n",
        "        break\n",
        "      new_tensors_testing.append(tensors_testing[i*(skip_amount+1)])\n",
        "    tensors_testing = new_tensors_testing\n",
        "\n",
        "  if binning:        #Bin each of the datasets\n",
        "    binned_labels = []\n",
        "    binned_tensors_training = []\n",
        "    binned_tensors_validation = []\n",
        "    binned_tensors_testing = []\n",
        "\n",
        "    binned_labels.append([])   \n",
        "    binned_tensors_training.append([])\n",
        "    binned_tensors_validation.append([])\n",
        "    binned_tensors_testing.append([])\n",
        "\n",
        "    print(len(labels)) \n",
        "    for i in range(len(labels)):       \n",
        "      for label in labels[i]:\n",
        "        binned_labels[-1].append(label)\n",
        "      if (i+1)%bin_size == 0:\n",
        "        binned_labels.append([])\n",
        "    if len(labels)%bin_size != 0:\n",
        "      del binned_labels[-1]\n",
        "    print(\"total bins (la): \", len(binned_labels))\n",
        "    labels = binned_labels\n",
        "    n_labels = len(labels)\n",
        "    print(len(labels))\n",
        "\n",
        "    print(len(tensors_training)) \n",
        "    for i in range(len(tensors_training)):       \n",
        "      for tensor in tensors_training[i]:\n",
        "        binned_tensors_training[-1].append(tensor)\n",
        "      if (i+1)%bin_size == 0:\n",
        "        binned_tensors_training.append([])\n",
        "    if len(tensors_training)%bin_size != 0:\n",
        "      del binned_tensors_training[-1]\n",
        "    print(\"total bins (tr): \", len(binned_tensors_training))\n",
        "    tensors_training = binned_tensors_training\n",
        "\n",
        "    print(len(tensors_validation))\n",
        "    for i in range(len(tensors_validation)):\n",
        "      for tensor in tensors_validation[i]:\n",
        "        binned_tensors_validation[-1].append(tensor)\n",
        "      if (i+1)%bin_size == 0:\n",
        "        binned_tensors_validation.append([])\n",
        "    if len(tensors_validation)%bin_size != 0:\n",
        "      del binned_tensors_validation[-1]\n",
        "    print(\"total bins (va): \", len(binned_tensors_validation))\n",
        "    tensors_validation = binned_tensors_validation\n",
        "\n",
        "    print(len(tensors_testing))\n",
        "    for i in range(len(tensors_testing)):\n",
        "      for tensor in tensors_testing[i]:\n",
        "        binned_tensors_testing[-1].append(tensor)\n",
        "      if (i+1)%bin_size == 0:\n",
        "        binned_tensors_testing.append([])\n",
        "    if len(tensors_testing)%bin_size != 0:\n",
        "      del binned_tensors_testing[-1]\n",
        "    print(\"total bins (te): \", len(binned_tensors_testing))\n",
        "    tensors_testing = binned_tensors_testing\n",
        "\n",
        "  if extr:   #Take only the most extreme classes from the data\n",
        "    print(labels)\n",
        "    t_labels = labels[0]\n",
        "    t_labels.append(labels[-1])\n",
        "    labels = t_labels\n",
        "\n",
        "    t_tensors_training = tensors_training[0]\n",
        "    t_tensors_training.append(tensors_training[-1])\n",
        "    tensors_training = t_tensors_training\n",
        "\n",
        "    t_tensors_validation = tensors_validation[0]\n",
        "    t_tensors_validation.append(tensors_validation[-1])\n",
        "    tensors_validation = t_tensors_validation\n",
        "\n",
        "    t_tensors_testing = tensors_testing[0]\n",
        "    t_tensors_testing.append(tensors_testing[-1])\n",
        "    tensors_testing = t_tensors_testing\n",
        "\n",
        "    print(\"\")\n",
        "    print(\"----\")\n",
        "    print(\"len labels:     \", len(labels))\n",
        "    print(\"len training:   \", len(tensors_training))\n",
        "    print(\"len validation: \", len(tensors_validation))\n",
        "    print(\"len testing:    \", len(tensors_testing))\n",
        "    print(\"labels =        \", labels)\n",
        "    print(\"----\")\n",
        "    print(\"\")\n",
        "\n",
        "  loader_training = ThreeDDataset(tensors_training, labels)\n",
        "  loader_validation = ThreeDDataset(tensors_validation, labels)\n",
        "  loader_testing = ThreeDDataset(tensors_testing, labels)\n",
        "  databunch = DataBunch.create(loader_training, loader_validation, loader_testing, bs=bs, num_workers=0)\n",
        "\n",
        "  return databunch"
      ],
      "execution_count": null,
      "outputs": []
    },
    {
      "cell_type": "markdown",
      "metadata": {
        "id": "mXOqlfwnvOVS"
      },
      "source": [
        "##Create CnnLearner"
      ]
    },
    {
      "cell_type": "code",
      "metadata": {
        "id": "xPdsytzlpeKF"
      },
      "source": [
        "def create_learner(folder,d_type,seed, show_model=False, batch_size=1, binning=False,bin_size=1, skip_amount=0, opt=optim.Adam, save=True):\r\n",
        "  databunch = prepare_datasets(folder, d_type, seed, binning=binning, batch_size=batch_size, bin_size=bin_size, skip_amount=skip_amount)\r\n",
        "  global learn \r\n",
        "  learn = cnn_learner(databunch, models.densenet121, metrics=[accuracy], loss_func=torch.nn.CrossEntropyLoss(), opt_func=opt, pretrained=False)\r\n",
        "  global c_model\r\n",
        "  c_model = 'densenet121-'      #Model\r\n",
        "  metric = 'metric=error_rate-'     #Metric\r\n",
        "  loss = 'loss=CrossEntropyLoss-' #Loss \r\n",
        "  optimizer = 'opt=ADAM-'\r\n",
        "  twod_or_threed = 'CONV2D-'\r\n",
        "  c_model = twod_or_threed+c_model+metric+loss+optimizer\r\n",
        "\r\n",
        "  learn.model[0][0] = nn.Conv2d(20, 1024, kernel_size=(3, 3), stride=(1, 1), padding=(0, 0), bias=False)\r\n",
        "  learn.model[1][8] = nn.Linear(in_features=512, out_features=n_labels, bias=True)\r\n",
        "  \r\n",
        "  if show_model:\r\n",
        "    learn.summary()\r\n",
        "\r\n",
        "  if d_type=='training' and save:\r\n",
        "    learn.lr_find(start_lr=1e-4, end_lr=5, num_it=100, stop_div=False)\r\n",
        "    learn.recorder.plot()\r\n",
        "    learn.recorder.plot_lr()\r\n",
        "\r\n",
        "  if save:\r\n",
        "    c_model_t = c_model +'bs='+str(learn.recorder.train_dl.batch_size)+'-ntrain='+folder+d_type+'_'+seed#str(learn.recorder.train_dl.dl.dataset.__len__())\r\n",
        "    !mkdir /content/drive/MyDrive/ModelStages/{c_model_t}\r\n",
        "    learn.save('/content/drive/MyDrive/ModelStages/'\r\n",
        "                                +c_model\r\n",
        "                                +'bs='+str(learn.recorder.train_dl.batch_size)\r\n",
        "                                +'-ntrain='+folder+d_type+'_'+seed #str(learn.recorder.train_dl.dl.dataset.__len__())\r\n",
        "                                +'/epochs-0')"
      ],
      "execution_count": null,
      "outputs": []
    },
    {
      "cell_type": "markdown",
      "metadata": {
        "id": "By1vtRbuOPc7"
      },
      "source": [
        "##Create Custom Learner\r\n"
      ]
    },
    {
      "cell_type": "code",
      "metadata": {
        "id": "abQjieoIORz-"
      },
      "source": [
        "def create_custom_learner(folder,d_type,seed, show_model=False, batch_size=1, binning=False,bin_size=1, skip_amount=0, opt=optim.Adam, save=True):\r\n",
        "  databunch = prepare_datasets(folder, d_type, seed, binning=binning, batch_size=batch_size, bin_size=bin_size, skip_amount=skip_amount)\r\n",
        "  global learn \r\n",
        "  learn = Learner(databunch, NNet, metrics=[accuracy], loss_func=torch.nn.CrossEntropyLoss(), opt_func=opt, pretrained=False)\r\n",
        "  global c_model\r\n",
        "  c_model = 'densenet121-'      #Model\r\n",
        "  metric = 'metric=error_rate-'     #Metric\r\n",
        "  loss = 'loss=CrossEntropyLoss-' #Loss \r\n",
        "  optimizer = 'opt=ADAM-'\r\n",
        "  twod_or_threed = 'CONV2D-'\r\n",
        "  c_model = twod_or_threed+c_model+metric+loss+optimizer\r\n",
        "\r\n",
        "  learn.model[0][0] = nn.Conv2d(20, 1024, kernel_size=(3, 3), stride=(1, 1), padding=(0, 0), bias=False)\r\n",
        "  learn.model[1][8] = nn.Linear(in_features=512, out_features=n_labels, bias=True)\r\n",
        "  \r\n",
        "  if show_model:\r\n",
        "    learn.summary()\r\n",
        "\r\n",
        "  if d_type=='training' and save:\r\n",
        "    learn.lr_find(start_lr=1e-4, end_lr=5, num_it=100, stop_div=False)\r\n",
        "    learn.recorder.plot()\r\n",
        "    learn.recorder.plot_lr()\r\n",
        "\r\n",
        "  if save:\r\n",
        "    c_model_t = c_model +'bs='+str(learn.recorder.train_dl.batch_size)+'-ntrain='+folder+d_type+'_'+seed#str(learn.recorder.train_dl.dl.dataset.__len__())\r\n",
        "    !mkdir /content/drive/MyDrive/ModelStages/{c_model_t}\r\n",
        "    learn.save('/content/drive/MyDrive/ModelStages/'\r\n",
        "                                +c_model\r\n",
        "                                +'bs='+str(learn.recorder.train_dl.batch_size)\r\n",
        "                                +'-ntrain='+folder+d_type+'_'+seed #str(learn.recorder.train_dl.dl.dataset.__len__())\r\n",
        "                                +'/epochs-0')"
      ],
      "execution_count": null,
      "outputs": []
    },
    {
      "cell_type": "markdown",
      "metadata": {
        "id": "Ohh1dFxEDklD"
      },
      "source": [
        "##Parameters and variables\r\n",
        "\r\n"
      ]
    },
    {
      "cell_type": "code",
      "metadata": {
        "id": "ZdldBVJ4DnfN"
      },
      "source": [
        "d_type_opt = ('training', 'validation')\r\n",
        "\r\n",
        "bs = 40\r\n",
        "epoch_chunk = 3\r\n",
        "t_f_default = 0.7\r\n",
        "v_f_default = 0.2\r\n",
        "global training_fraction\r\n",
        "global validation_fraction\r\n",
        "training_fraction   = t_f_default\r\n",
        "validation_fraction = v_f_default"
      ],
      "execution_count": null,
      "outputs": []
    },
    {
      "cell_type": "markdown",
      "metadata": {
        "id": "D7MgG-ik0bO_"
      },
      "source": [
        "##Training Functions\r\n"
      ]
    },
    {
      "cell_type": "code",
      "metadata": {
        "id": "shn_kRnrWO7O"
      },
      "source": [
        "def train_max_epochs(epoch_goal, lr, mom, weight_decay, epoch_chunk, save=True):\r\n",
        "  n_epochs_total = 0\r\n",
        "  #learn.unfreeze()\r\n",
        "  validation_losses = []\r\n",
        "  training_losses = []\r\n",
        "  n_batches = len(learn.recorder.train_dl)\r\n",
        "  while n_epochs_total < epoch_goal:\r\n",
        "    n_epochs_total = load_latest_training(learn, c_model)\r\n",
        "    print(\"Best training so far: \", n_epochs_total)\r\n",
        "\r\n",
        "    learn.fit_one_cycle(epoch_chunk,max_lr=slice(1e-6,1e-4),moms=mom,wd=weight_decay)\r\n",
        "    n_epochs_total += epoch_chunk\r\n",
        "\r\n",
        "    print('/content/drive/MyDrive/ModelStages/'\r\n",
        "      +c_model\r\n",
        "      +'bs='+str(learn.recorder.train_dl.batch_size)\r\n",
        "      +'-ntrain='+folder+d_type#str(learn.recorder.train_dl.dl.dataset.__len__())\r\n",
        "      +'/epochs-'+str(n_epochs_total)\r\n",
        "      +'-max_lr='+str(lr)\r\n",
        "      +'-mom='+str(mom))\r\n",
        "\r\n",
        "    if save:\r\n",
        "      learn.save('/content/drive/MyDrive/ModelStages/'\r\n",
        "      +c_model\r\n",
        "      +'bs='+str(learn.recorder.train_dl.batch_size)\r\n",
        "      +'-ntrain='+folder+d_type+'_'+seed #str(learn.recorder.train_dl.dl.dataset.__len__())\r\n",
        "      +'/epochs-'+str(n_epochs_total)\r\n",
        "      +'-max_lr='+str(lr)\r\n",
        "      +'-mom='+str(mom))\r\n",
        "    \r\n",
        "    for c_val_loss in learn.recorder.val_losses:\r\n",
        "      validation_losses.append(c_val_loss)\r\n",
        "    for i in range(1,epoch_chunk+1):\r\n",
        "      training_losses.append(learn.recorder.losses[i*n_batches-1].item())\r\n",
        "    print(\"losses: \", training_losses)\r\n",
        "    print(\"validation_losses: \", validation_losses)\r\n",
        "  learn.recorder.plot_metrics()\r\n",
        "  learn.recorder.plot_losses()\r\n",
        "  return training_losses, validation_losses"
      ],
      "execution_count": null,
      "outputs": []
    },
    {
      "cell_type": "code",
      "metadata": {
        "id": "pvxIGCtFU-lO"
      },
      "source": [
        "def train_with_parameters(epochs_max, batch_size, opt, mom, weight_decay, lr):\r\n",
        "  folder = 'raw_data_transfering_200_'\r\n",
        "  d_type = d_type_opt[0]\r\n",
        "  seed=str('seed1111')\r\n",
        "\r\n",
        "  create_learner(folder,d_type,seed, batch_size=batch_size, binning=True,bin_size=1, skip_amount=0, opt=opt, save=True)\r\n",
        "  training_losses,validation_losses = train_max_epochs(epochs_max,lr,mom,1, 1,save=False)\r\n",
        "  return training_losses,validation_losses"
      ],
      "execution_count": null,
      "outputs": []
    },
    {
      "cell_type": "code",
      "metadata": {
        "id": "iHYfjjq3WuiF"
      },
      "source": [
        "def load_latest_training(learn, c_model):\r\n",
        "  dir = '/content/drive/MyDrive/ModelStages/'+c_model+'bs='+str(learn.recorder.train_dl.batch_size)+'-ntrain='+folder+d_type+'_'+seed+'/'\r\n",
        "  training_files = !ls -l {dir}\r\n",
        "  training_files.reverse()\r\n",
        "  training_files.pop()\r\n",
        "\r\n",
        "  for i in range(len(training_files)):\r\n",
        "      training_files[i] = training_files[i].rsplit(' ',1)[1]\r\n",
        "      training_files[i] = training_files[i].rsplit('.',1)[0]\r\n",
        "\r\n",
        "  max_epoch_value = 0\r\n",
        "  max_epoch_ind = -1\r\n",
        "  if len(training_files)!=1:\r\n",
        "    for i in range(len(training_files)-1):\r\n",
        "      training_files[i] = training_files[i].rsplit('\\'',1)[1]\r\n",
        "      if int(training_files[i].rsplit('-',-1)[1].rsplit('-',-1)[0]) > max_epoch_value:\r\n",
        "        max_epoch_value = int(training_files[i].rsplit('-',-1)[1].rsplit('-',-1)[0])\r\n",
        "        max_epoch_ind = i\r\n",
        "  else:\r\n",
        "    max_epoch_ind = 0\r\n",
        "  learn.load(dir+'/'+training_files[max_epoch_ind])\r\n",
        "  \r\n",
        "  \r\n",
        "  return max_epoch_value"
      ],
      "execution_count": null,
      "outputs": []
    },
    {
      "cell_type": "markdown",
      "metadata": {
        "id": "edNsxJUdm5gj"
      },
      "source": [
        "#Hyperparameter Optimisation"
      ]
    },
    {
      "cell_type": "markdown",
      "metadata": {
        "id": "fdXDS-clMNXq"
      },
      "source": [
        "###Online grid search"
      ]
    },
    {
      "cell_type": "code",
      "metadata": {
        "id": "VnOUBnSHm4Nt",
        "colab": {
          "base_uri": "https://localhost:8080/",
          "height": 568
        },
        "outputId": "255dd526-7209-44de-f505-fa84fe078a7b"
      },
      "source": [
        "from sklearn.model_selection import GridSearchCV\r\n",
        "from torch import nn\r\n",
        "import numpy as np\r\n",
        "from sklearn.datasets import make_classification\r\n",
        "!pip install --user skorch\r\n",
        "from skorch import NeuralNetClassifier\r\n",
        "\r\n",
        "class MyModule(nn.Module):\r\n",
        "    def __init__(self, num_units=10, nonlin=nn.ReLU()):\r\n",
        "        super(MyModule, self).__init__()\r\n",
        "\r\n",
        "        self.dense0 = nn.Linear(20, num_units)\r\n",
        "        self.nonlin = nonlin\r\n",
        "        self.dropout = nn.Dropout(0.5)\r\n",
        "        self.dense1 = nn.Linear(num_units, num_units)\r\n",
        "        self.output = nn.Linear(num_units, 2)\r\n",
        "        self.softmax = nn.Softmax(dim=-1)\r\n",
        "\r\n",
        "    def forward(self, X, **kwargs):\r\n",
        "        X = self.nonlin(self.dense0(X))\r\n",
        "        X = self.dropout(X)\r\n",
        "        X = self.nonlin(self.dense1(X))\r\n",
        "        X = self.softmax(self.output(X))\r\n",
        "        return X\r\n",
        "\r\n",
        "\r\n",
        "net = NeuralNetClassifier(\r\n",
        "    MyModule,\r\n",
        "    max_epochs=10,\r\n",
        "    lr=0.1,\r\n",
        "    # Shuffle training data on each epoch\r\n",
        "    iterator_train__shuffle=True,\r\n",
        ")\r\n",
        "\r\n",
        "\r\n",
        "net.set_params(train_split=False, verbose=0)\r\n",
        "params = {\r\n",
        "    'lr': [0.01, 0.02],\r\n",
        "    'max_epochs': [10, 20],\r\n",
        "    'module__num_units': [10, 20],\r\n",
        "}\r\n",
        "\r\n",
        "\r\n",
        "X, y = make_classification(1000, 20, n_informative=10, random_state=0)\r\n",
        "X = X.astype(np.float32)\r\n",
        "y = y.astype(np.int64)\r\n",
        "\r\n",
        "gs = GridSearchCV(net, params, refit=False, cv=3, scoring='accuracy', verbose=2)\r\n",
        "gs.fit(X, y)\r\n",
        "print(\"best score: {:.3f}, best params: {}\".format(gs.best_score_, gs.best_params_))"
      ],
      "execution_count": null,
      "outputs": [
        {
          "output_type": "stream",
          "text": [
            "Collecting skorch\n",
            "\u001b[?25l  Downloading https://files.pythonhosted.org/packages/18/c7/2f6434f9360c91a4bf14ae85f634758e5dacd3539cca4266a60be9f881ae/skorch-0.9.0-py3-none-any.whl (125kB)\n",
            "\r\u001b[K     |██▋                             | 10kB 12.5MB/s eta 0:00:01\r\u001b[K     |█████▏                          | 20kB 14.2MB/s eta 0:00:01\r\u001b[K     |███████▉                        | 30kB 9.8MB/s eta 0:00:01\r\u001b[K     |██████████▍                     | 40kB 8.7MB/s eta 0:00:01\r\u001b[K     |█████████████                   | 51kB 5.1MB/s eta 0:00:01\r\u001b[K     |███████████████▋                | 61kB 5.5MB/s eta 0:00:01\r\u001b[K     |██████████████████▎             | 71kB 5.6MB/s eta 0:00:01\r\u001b[K     |████████████████████▉           | 81kB 6.0MB/s eta 0:00:01\r\u001b[K     |███████████████████████▍        | 92kB 6.2MB/s eta 0:00:01\r\u001b[K     |██████████████████████████      | 102kB 6.5MB/s eta 0:00:01\r\u001b[K     |████████████████████████████▋   | 112kB 6.5MB/s eta 0:00:01\r\u001b[K     |███████████████████████████████▎| 122kB 6.5MB/s eta 0:00:01\r\u001b[K     |████████████████████████████████| 133kB 6.5MB/s \n",
            "\u001b[?25hRequirement already satisfied: scikit-learn>=0.19.1 in /usr/local/lib/python3.7/dist-packages (from skorch) (0.22.2.post1)\n",
            "Requirement already satisfied: numpy>=1.13.3 in /usr/local/lib/python3.7/dist-packages (from skorch) (1.19.5)\n",
            "Requirement already satisfied: tabulate>=0.7.7 in /usr/local/lib/python3.7/dist-packages (from skorch) (0.8.8)\n",
            "Requirement already satisfied: tqdm>=4.14.0 in /usr/local/lib/python3.7/dist-packages (from skorch) (4.41.1)\n",
            "Requirement already satisfied: scipy>=1.1.0 in /usr/local/lib/python3.7/dist-packages (from skorch) (1.4.1)\n",
            "Requirement already satisfied: joblib>=0.11 in /usr/local/lib/python3.7/dist-packages (from scikit-learn>=0.19.1->skorch) (1.0.1)\n",
            "Installing collected packages: skorch\n",
            "Successfully installed skorch-0.9.0\n"
          ],
          "name": "stdout"
        },
        {
          "output_type": "error",
          "ename": "ModuleNotFoundError",
          "evalue": "ignored",
          "traceback": [
            "\u001b[0;31m---------------------------------------------------------------------------\u001b[0m",
            "\u001b[0;31mModuleNotFoundError\u001b[0m                       Traceback (most recent call last)",
            "\u001b[0;32m<ipython-input-22-dddd67a0de1c>\u001b[0m in \u001b[0;36m<module>\u001b[0;34m()\u001b[0m\n\u001b[1;32m      4\u001b[0m \u001b[0;32mfrom\u001b[0m \u001b[0msklearn\u001b[0m\u001b[0;34m.\u001b[0m\u001b[0mdatasets\u001b[0m \u001b[0;32mimport\u001b[0m \u001b[0mmake_classification\u001b[0m\u001b[0;34m\u001b[0m\u001b[0;34m\u001b[0m\u001b[0m\n\u001b[1;32m      5\u001b[0m \u001b[0mget_ipython\u001b[0m\u001b[0;34m(\u001b[0m\u001b[0;34m)\u001b[0m\u001b[0;34m.\u001b[0m\u001b[0msystem\u001b[0m\u001b[0;34m(\u001b[0m\u001b[0;34m'pip install --user skorch'\u001b[0m\u001b[0;34m)\u001b[0m\u001b[0;34m\u001b[0m\u001b[0;34m\u001b[0m\u001b[0m\n\u001b[0;32m----> 6\u001b[0;31m \u001b[0;32mfrom\u001b[0m \u001b[0mskorch\u001b[0m \u001b[0;32mimport\u001b[0m \u001b[0mNeuralNetClassifier\u001b[0m\u001b[0;34m\u001b[0m\u001b[0;34m\u001b[0m\u001b[0m\n\u001b[0m\u001b[1;32m      7\u001b[0m \u001b[0;34m\u001b[0m\u001b[0m\n\u001b[1;32m      8\u001b[0m \u001b[0;32mclass\u001b[0m \u001b[0mMyModule\u001b[0m\u001b[0;34m(\u001b[0m\u001b[0mnn\u001b[0m\u001b[0;34m.\u001b[0m\u001b[0mModule\u001b[0m\u001b[0;34m)\u001b[0m\u001b[0;34m:\u001b[0m\u001b[0;34m\u001b[0m\u001b[0;34m\u001b[0m\u001b[0m\n",
            "\u001b[0;31mModuleNotFoundError\u001b[0m: No module named 'skorch'",
            "",
            "\u001b[0;31m---------------------------------------------------------------------------\u001b[0;32m\nNOTE: If your import is failing due to a missing package, you can\nmanually install dependencies using either !pip or !apt.\n\nTo view examples of installing some common dependencies, click the\n\"Open Examples\" button below.\n\u001b[0;31m---------------------------------------------------------------------------\u001b[0m\n"
          ]
        }
      ]
    },
    {
      "cell_type": "markdown",
      "metadata": {
        "id": "YRFtaJpnL-vu"
      },
      "source": [
        "###Our own grid search algorithm"
      ]
    },
    {
      "cell_type": "code",
      "metadata": {
        "id": "hWk2jSmKME5N"
      },
      "source": [
        "parameter_lims = {}\r\n",
        "parameter_lims['bs']  = [20,30,40]\r\n",
        "parameter_lims['opt'] = [optim.Adam,optim.AdamW]\r\n",
        "parameter_lims['mom'] = [0,0.5,0.9]\r\n",
        "lr = 0.1\r\n",
        "\r\n",
        "for bs_val in parameter_lims['bs']:\r\n",
        "  for opt_val in parameter_lims['opt']:\r\n",
        "    for mom_val in parameter_lims['mom']:\r\n",
        "      train_losses,valid_losses = train_with_parameters(1,bs_val, opt_val, mom_val, 0, lr)\r\n",
        "      print(\"parameters: bs_val=\", bs_val, \" opt=\", opt_val, \" mom=\", mom_val)\r\n",
        "      print(\"train_loss=\", train_losses[-1])\r\n",
        "      print(\"valid_loss=\", valid_losses[-1])"
      ],
      "execution_count": null,
      "outputs": []
    },
    {
      "cell_type": "markdown",
      "metadata": {
        "id": "CFdTKB0Gt7Mw"
      },
      "source": [
        "##Baysian Optimisation test area\r\n"
      ]
    },
    {
      "cell_type": "code",
      "metadata": {
        "id": "U8ACkm2AuO0y"
      },
      "source": [
        "!pip install bayesian-optimization"
      ],
      "execution_count": null,
      "outputs": []
    },
    {
      "cell_type": "code",
      "metadata": {
        "id": "GWvi__YYuBcI"
      },
      "source": [
        "def fit_with(lr, mom, wd):  \r\n",
        "  folder = 'raw_data_transfering_100_'\r\n",
        "  d_type = d_type_opt[0]\r\n",
        "  batch_size = 25\r\n",
        "  databunch = prepare_datasets(folder, d_type, batch_size=batch_size, binning=True, bin_size=3, skip_amount=0)\r\n",
        "\r\n",
        "  #learn = cnn_learner(databunch, models.resnet50, metrics=[accuracy], loss_func=torch.nn.CrossEntropyLoss(), wd=wd, pretrained=True)\r\n",
        "  #learn.model[0][0] = nn.Conv2d(20, 64, kernel_size=(7, 7), stride=(2, 2), padding=(3, 3), bias=False)\r\n",
        "  #learn.model[1][-1] = nn.Linear(in_features=512, out_features=n_labels, bias=True)\r\n",
        "\r\n",
        "  learn = cnn_learner(databunch, models.densenet121, metrics=[accuracy], loss_func=torch.nn.CrossEntropyLoss(), opt_func=optim.SGD, pretrained=False)\r\n",
        "  learn.model[0][0] = nn.Conv2d(20, 1024, kernel_size=(7, 7), stride=(2, 2), padding=(3, 3), bias=False)\r\n",
        "  learn.model[1][8] = nn.Linear(in_features=512, out_features=n_labels, bias=True)\r\n",
        "\r\n",
        "\r\n",
        "\r\n",
        "\r\n",
        "  learn.fit_one_cycle(1, max_lr=lr)\r\n",
        "\r\n",
        "  learn.recorder.plot_losses()\r\n",
        "\r\n",
        "  acc = float(learn.validate(learn.data.valid_dl)[1])\r\n",
        "\r\n",
        "  print(\"Accuracy:\" + str(acc*100))\r\n",
        "\r\n",
        "  return acc"
      ],
      "execution_count": null,
      "outputs": []
    },
    {
      "cell_type": "code",
      "metadata": {
        "id": "JAM6EXefuJLZ"
      },
      "source": [
        "from bayes_opt import BayesianOptimization\r\n",
        "\r\n",
        "pbounds = {'lr': (1e-3, 1e+2), 'mom':(0, 1), 'wd':(1e-4, 1)}\r\n",
        "\r\n",
        "optimizer = BayesianOptimization(\r\n",
        "    f=fit_with,\r\n",
        "    pbounds=pbounds,\r\n",
        "    verbose=2, # verbose = 1 prints only when a maximum is observed, verbose = 0 is silent\r\n",
        "    random_state=1,\r\n",
        ")   \r\n",
        "\r\n",
        "optimizer.maximize(init_points=5, n_iter=5)\r\n",
        "\r\n",
        "for i, res in enumerate(optimizer.res):\r\n",
        "    print(\"Iteration {}: \\n\\t{}\".format(i, res))\r\n",
        "\r\n",
        "print(optimizer.max)"
      ],
      "execution_count": null,
      "outputs": []
    },
    {
      "cell_type": "markdown",
      "metadata": {
        "id": "bpNV7I5UEN5h"
      },
      "source": [
        "#Result Gathering"
      ]
    },
    {
      "cell_type": "code",
      "metadata": {
        "id": "McIJxhXGEM6x"
      },
      "source": [
        "folder = 'raw_data_transfering_200_'\r\n",
        "d_type = d_type_opt[0]\r\n",
        "seed=str('seed1111')"
      ],
      "execution_count": null,
      "outputs": []
    },
    {
      "cell_type": "code",
      "metadata": {
        "id": "ZYmiN5jtFfQ0",
        "colab": {
          "base_uri": "https://localhost:8080/",
          "height": 1000
        },
        "outputId": "f0f2f0d1-0025-4490-b291-cc91d39dc667"
      },
      "source": [
        "results = {}\r\n",
        "\r\n",
        "def get_losses_bin_skip(bin_size,skip_amount):\r\n",
        "  create_learner(folder,d_type,seed, show_model=False, batch_size=30, binning=True,bin_size=bin_size, skip_amount=skip_amount, save=True)\r\n",
        "  epoch_goal = 10\r\n",
        "  lr = 1\r\n",
        "  mom = 0\r\n",
        "  wd = 1\r\n",
        "  epoch_chunk = 10\r\n",
        "  training_losses,validation_losses = train_max_epochs(epoch_goal,lr,mom,wd,epoch_chunk,save=False)\r\n",
        "  results[str(bin_size)+str(skip_amount)] = [training_losses,validation_losses]\r\n",
        "  print(results)\r\n",
        "get_losses_bin_skip(1,0)\r\n",
        "get_losses_bin_skip(1,1)\r\n",
        "get_losses_bin_skip(1,2)\r\n",
        "get_losses_bin_skip(1,3)\r\n",
        "get_losses_bin_skip(1,4)"
      ],
      "execution_count": null,
      "outputs": [
        {
          "output_type": "stream",
          "text": [
            "Found pre-loaded data raw_data_transfering_200_training_seed1111\n",
            "17\n",
            "total bins (la):  18\n",
            "18\n",
            "17\n",
            "total bins (tr):  18\n",
            "17\n",
            "total bins (va):  18\n",
            "17\n",
            "total bins (te):  18\n"
          ],
          "name": "stdout"
        },
        {
          "output_type": "display_data",
          "data": {
            "text/html": [
              "\n",
              "    <div>\n",
              "        <style>\n",
              "            /* Turns off some styling */\n",
              "            progress {\n",
              "                /* gets rid of default border in Firefox and Opera. */\n",
              "                border: none;\n",
              "                /* Needs to be in here for Safari polyfill so background images work as expected. */\n",
              "                background-size: auto;\n",
              "            }\n",
              "            .progress-bar-interrupted, .progress-bar-interrupted::-webkit-progress-bar {\n",
              "                background: #F44336;\n",
              "            }\n",
              "        </style>\n",
              "      <progress value='1' class='' max='2' style='width:300px; height:20px; vertical-align: middle;'></progress>\n",
              "      50.00% [1/2 00:21<00:21]\n",
              "    </div>\n",
              "    \n",
              "<table border=\"1\" class=\"dataframe\">\n",
              "  <thead>\n",
              "    <tr style=\"text-align: left;\">\n",
              "      <th>epoch</th>\n",
              "      <th>train_loss</th>\n",
              "      <th>valid_loss</th>\n",
              "      <th>accuracy</th>\n",
              "      <th>time</th>\n",
              "    </tr>\n",
              "  </thead>\n",
              "  <tbody>\n",
              "    <tr>\n",
              "      <td>0</td>\n",
              "      <td>3.089818</td>\n",
              "      <td>#na#</td>\n",
              "      <td>00:21</td>\n",
              "    </tr>\n",
              "  </tbody>\n",
              "</table><p>\n",
              "\n",
              "    <div>\n",
              "        <style>\n",
              "            /* Turns off some styling */\n",
              "            progress {\n",
              "                /* gets rid of default border in Firefox and Opera. */\n",
              "                border: none;\n",
              "                /* Needs to be in here for Safari polyfill so background images work as expected. */\n",
              "                background-size: auto;\n",
              "            }\n",
              "            .progress-bar-interrupted, .progress-bar-interrupted::-webkit-progress-bar {\n",
              "                background: #F44336;\n",
              "            }\n",
              "        </style>\n",
              "      <progress value='40' class='' max='59' style='width:300px; height:20px; vertical-align: middle;'></progress>\n",
              "      67.80% [40/59 00:14<00:06 3.3608]\n",
              "    </div>\n",
              "    "
            ],
            "text/plain": [
              "<IPython.core.display.HTML object>"
            ]
          },
          "metadata": {
            "tags": []
          }
        },
        {
          "output_type": "stream",
          "text": [
            "LR Finder is complete, type {learner_name}.recorder.plot() to see the graph.\n",
            "mkdir: cannot create directory ‘/content/drive/MyDrive/ModelStages/CONV2D-densenet121-metric=error_rate-loss=CrossEntropyLoss-opt=ADAM-bs=40-ntrain=raw_data_transfering_200_training_seed1111’: File exists\n",
            "Best training so far:  0\n"
          ],
          "name": "stdout"
        },
        {
          "output_type": "display_data",
          "data": {
            "text/html": [
              "<table border=\"1\" class=\"dataframe\">\n",
              "  <thead>\n",
              "    <tr style=\"text-align: left;\">\n",
              "      <th>epoch</th>\n",
              "      <th>train_loss</th>\n",
              "      <th>valid_loss</th>\n",
              "      <th>accuracy</th>\n",
              "      <th>time</th>\n",
              "    </tr>\n",
              "  </thead>\n",
              "  <tbody>\n",
              "    <tr>\n",
              "      <td>0</td>\n",
              "      <td>3.163109</td>\n",
              "      <td>2.921876</td>\n",
              "      <td>0.045249</td>\n",
              "      <td>00:24</td>\n",
              "    </tr>\n",
              "    <tr>\n",
              "      <td>1</td>\n",
              "      <td>3.120461</td>\n",
              "      <td>2.884772</td>\n",
              "      <td>0.082956</td>\n",
              "      <td>00:23</td>\n",
              "    </tr>\n",
              "    <tr>\n",
              "      <td>2</td>\n",
              "      <td>3.051557</td>\n",
              "      <td>2.864766</td>\n",
              "      <td>0.084465</td>\n",
              "      <td>00:23</td>\n",
              "    </tr>\n",
              "    <tr>\n",
              "      <td>3</td>\n",
              "      <td>2.996040</td>\n",
              "      <td>2.870435</td>\n",
              "      <td>0.081448</td>\n",
              "      <td>00:24</td>\n",
              "    </tr>\n",
              "    <tr>\n",
              "      <td>4</td>\n",
              "      <td>2.932325</td>\n",
              "      <td>2.861771</td>\n",
              "      <td>0.084465</td>\n",
              "      <td>00:24</td>\n",
              "    </tr>\n",
              "    <tr>\n",
              "      <td>5</td>\n",
              "      <td>2.849547</td>\n",
              "      <td>2.855862</td>\n",
              "      <td>0.081448</td>\n",
              "      <td>00:23</td>\n",
              "    </tr>\n",
              "    <tr>\n",
              "      <td>6</td>\n",
              "      <td>2.794254</td>\n",
              "      <td>2.848692</td>\n",
              "      <td>0.087481</td>\n",
              "      <td>00:24</td>\n",
              "    </tr>\n",
              "    <tr>\n",
              "      <td>7</td>\n",
              "      <td>2.768107</td>\n",
              "      <td>2.849699</td>\n",
              "      <td>0.079940</td>\n",
              "      <td>00:23</td>\n",
              "    </tr>\n",
              "    <tr>\n",
              "      <td>8</td>\n",
              "      <td>2.758850</td>\n",
              "      <td>2.844125</td>\n",
              "      <td>0.090498</td>\n",
              "      <td>00:24</td>\n",
              "    </tr>\n",
              "    <tr>\n",
              "      <td>9</td>\n",
              "      <td>2.728448</td>\n",
              "      <td>2.847033</td>\n",
              "      <td>0.095023</td>\n",
              "      <td>00:24</td>\n",
              "    </tr>\n",
              "  </tbody>\n",
              "</table>"
            ],
            "text/plain": [
              "<IPython.core.display.HTML object>"
            ]
          },
          "metadata": {
            "tags": []
          }
        },
        {
          "output_type": "stream",
          "text": [
            "/content/drive/MyDrive/ModelStages/CONV2D-densenet121-metric=error_rate-loss=CrossEntropyLoss-opt=ADAM-bs=40-ntrain=raw_data_transfering_200_training/epochs-10-max_lr=1-mom=0\n",
            "losses:  [3.163109302520752, 3.1204612255096436, 3.0515568256378174, 2.996039628982544, 2.9323248863220215, 2.8495469093322754, 2.7942535877227783, 2.7681071758270264, 2.758849859237671, 2.7284483909606934]\n",
            "validation_losses:  [2.9218762, 2.8847723, 2.864766, 2.870435, 2.861771, 2.8558617, 2.8486924, 2.8496993, 2.8441248, 2.847033]\n",
            "{'10': [[3.163109302520752, 3.1204612255096436, 3.0515568256378174, 2.996039628982544, 2.9323248863220215, 2.8495469093322754, 2.7942535877227783, 2.7681071758270264, 2.758849859237671, 2.7284483909606934], [2.9218762, 2.8847723, 2.864766, 2.870435, 2.861771, 2.8558617, 2.8486924, 2.8496993, 2.8441248, 2.847033]]}\n",
            "Found pre-loaded data raw_data_transfering_200_training_seed1111\n",
            "['18.0', '17.5', '17.0', '16.7', '16.5', '16.3', '16.0', '15.5', '15.0']\n",
            "9\n",
            "total bins (la):  10\n",
            "10\n",
            "9\n",
            "total bins (tr):  10\n",
            "9\n",
            "total bins (va):  10\n",
            "9\n",
            "total bins (te):  10\n"
          ],
          "name": "stdout"
        },
        {
          "output_type": "display_data",
          "data": {
            "text/html": [
              "\n",
              "    <div>\n",
              "        <style>\n",
              "            /* Turns off some styling */\n",
              "            progress {\n",
              "                /* gets rid of default border in Firefox and Opera. */\n",
              "                border: none;\n",
              "                /* Needs to be in here for Safari polyfill so background images work as expected. */\n",
              "                background-size: auto;\n",
              "            }\n",
              "            .progress-bar-interrupted, .progress-bar-interrupted::-webkit-progress-bar {\n",
              "                background: #F44336;\n",
              "            }\n",
              "        </style>\n",
              "      <progress value='3' class='' max='4' style='width:300px; height:20px; vertical-align: middle;'></progress>\n",
              "      75.00% [3/4 00:34<00:11]\n",
              "    </div>\n",
              "    \n",
              "<table border=\"1\" class=\"dataframe\">\n",
              "  <thead>\n",
              "    <tr style=\"text-align: left;\">\n",
              "      <th>epoch</th>\n",
              "      <th>train_loss</th>\n",
              "      <th>valid_loss</th>\n",
              "      <th>accuracy</th>\n",
              "      <th>time</th>\n",
              "    </tr>\n",
              "  </thead>\n",
              "  <tbody>\n",
              "    <tr>\n",
              "      <td>0</td>\n",
              "      <td>2.489879</td>\n",
              "      <td>#na#</td>\n",
              "      <td>00:11</td>\n",
              "    </tr>\n",
              "    <tr>\n",
              "      <td>1</td>\n",
              "      <td>2.243127</td>\n",
              "      <td>#na#</td>\n",
              "      <td>00:11</td>\n",
              "    </tr>\n",
              "    <tr>\n",
              "      <td>2</td>\n",
              "      <td>2.288094</td>\n",
              "      <td>#na#</td>\n",
              "      <td>00:11</td>\n",
              "    </tr>\n",
              "  </tbody>\n",
              "</table><p>\n",
              "\n",
              "    <div>\n",
              "        <style>\n",
              "            /* Turns off some styling */\n",
              "            progress {\n",
              "                /* gets rid of default border in Firefox and Opera. */\n",
              "                border: none;\n",
              "                /* Needs to be in here for Safari polyfill so background images work as expected. */\n",
              "                background-size: auto;\n",
              "            }\n",
              "            .progress-bar-interrupted, .progress-bar-interrupted::-webkit-progress-bar {\n",
              "                background: #F44336;\n",
              "            }\n",
              "        </style>\n",
              "      <progress value='6' class='' max='31' style='width:300px; height:20px; vertical-align: middle;'></progress>\n",
              "      19.35% [6/31 00:02<00:09 2.5602]\n",
              "    </div>\n",
              "    "
            ],
            "text/plain": [
              "<IPython.core.display.HTML object>"
            ]
          },
          "metadata": {
            "tags": []
          }
        },
        {
          "output_type": "stream",
          "text": [
            "LR Finder is complete, type {learner_name}.recorder.plot() to see the graph.\n",
            "mkdir: cannot create directory ‘/content/drive/MyDrive/ModelStages/CONV2D-densenet121-metric=error_rate-loss=CrossEntropyLoss-opt=ADAM-bs=40-ntrain=raw_data_transfering_200_training_seed1111’: File exists\n"
          ],
          "name": "stdout"
        },
        {
          "output_type": "error",
          "ename": "RuntimeError",
          "evalue": "ignored",
          "traceback": [
            "\u001b[0;31m---------------------------------------------------------------------------\u001b[0m",
            "\u001b[0;31mRuntimeError\u001b[0m                              Traceback (most recent call last)",
            "\u001b[0;32m<ipython-input-71-c9b29ed816d1>\u001b[0m in \u001b[0;36m<module>\u001b[0;34m()\u001b[0m\n\u001b[1;32m     12\u001b[0m   \u001b[0mprint\u001b[0m\u001b[0;34m(\u001b[0m\u001b[0mresults\u001b[0m\u001b[0;34m)\u001b[0m\u001b[0;34m\u001b[0m\u001b[0;34m\u001b[0m\u001b[0m\n\u001b[1;32m     13\u001b[0m \u001b[0mget_losses_bin_skip\u001b[0m\u001b[0;34m(\u001b[0m\u001b[0;36m1\u001b[0m\u001b[0;34m,\u001b[0m\u001b[0;36m0\u001b[0m\u001b[0;34m)\u001b[0m\u001b[0;34m\u001b[0m\u001b[0;34m\u001b[0m\u001b[0m\n\u001b[0;32m---> 14\u001b[0;31m \u001b[0mget_losses_bin_skip\u001b[0m\u001b[0;34m(\u001b[0m\u001b[0;36m1\u001b[0m\u001b[0;34m,\u001b[0m\u001b[0;36m1\u001b[0m\u001b[0;34m)\u001b[0m\u001b[0;34m\u001b[0m\u001b[0;34m\u001b[0m\u001b[0m\n\u001b[0m\u001b[1;32m     15\u001b[0m \u001b[0mget_losses_bin_skip\u001b[0m\u001b[0;34m(\u001b[0m\u001b[0;36m1\u001b[0m\u001b[0;34m,\u001b[0m\u001b[0;36m2\u001b[0m\u001b[0;34m)\u001b[0m\u001b[0;34m\u001b[0m\u001b[0;34m\u001b[0m\u001b[0m\n\u001b[1;32m     16\u001b[0m \u001b[0mget_losses_bin_skip\u001b[0m\u001b[0;34m(\u001b[0m\u001b[0;36m1\u001b[0m\u001b[0;34m,\u001b[0m\u001b[0;36m3\u001b[0m\u001b[0;34m)\u001b[0m\u001b[0;34m\u001b[0m\u001b[0;34m\u001b[0m\u001b[0m\n",
            "\u001b[0;32m<ipython-input-71-c9b29ed816d1>\u001b[0m in \u001b[0;36mget_losses_bin_skip\u001b[0;34m(bin_size, skip_amount)\u001b[0m\n\u001b[1;32m      8\u001b[0m   \u001b[0mwd\u001b[0m \u001b[0;34m=\u001b[0m \u001b[0;36m1\u001b[0m\u001b[0;34m\u001b[0m\u001b[0;34m\u001b[0m\u001b[0m\n\u001b[1;32m      9\u001b[0m   \u001b[0mepoch_chunk\u001b[0m \u001b[0;34m=\u001b[0m \u001b[0;36m10\u001b[0m\u001b[0;34m\u001b[0m\u001b[0;34m\u001b[0m\u001b[0m\n\u001b[0;32m---> 10\u001b[0;31m   \u001b[0mtraining_losses\u001b[0m\u001b[0;34m,\u001b[0m\u001b[0mvalidation_losses\u001b[0m \u001b[0;34m=\u001b[0m \u001b[0mtrain_max_epochs\u001b[0m\u001b[0;34m(\u001b[0m\u001b[0mepoch_goal\u001b[0m\u001b[0;34m,\u001b[0m\u001b[0mlr\u001b[0m\u001b[0;34m,\u001b[0m\u001b[0mmom\u001b[0m\u001b[0;34m,\u001b[0m\u001b[0mwd\u001b[0m\u001b[0;34m,\u001b[0m\u001b[0mepoch_chunk\u001b[0m\u001b[0;34m,\u001b[0m\u001b[0msave\u001b[0m\u001b[0;34m=\u001b[0m\u001b[0;32mTrue\u001b[0m\u001b[0;34m)\u001b[0m\u001b[0;34m\u001b[0m\u001b[0;34m\u001b[0m\u001b[0m\n\u001b[0m\u001b[1;32m     11\u001b[0m   \u001b[0mresults\u001b[0m\u001b[0;34m[\u001b[0m\u001b[0mstr\u001b[0m\u001b[0;34m(\u001b[0m\u001b[0mbin_size\u001b[0m\u001b[0;34m)\u001b[0m\u001b[0;34m+\u001b[0m\u001b[0mstr\u001b[0m\u001b[0;34m(\u001b[0m\u001b[0mskip_amount\u001b[0m\u001b[0;34m)\u001b[0m\u001b[0;34m]\u001b[0m \u001b[0;34m=\u001b[0m \u001b[0;34m[\u001b[0m\u001b[0mtraining_losses\u001b[0m\u001b[0;34m,\u001b[0m\u001b[0mvalidation_losses\u001b[0m\u001b[0;34m]\u001b[0m\u001b[0;34m\u001b[0m\u001b[0;34m\u001b[0m\u001b[0m\n\u001b[1;32m     12\u001b[0m   \u001b[0mprint\u001b[0m\u001b[0;34m(\u001b[0m\u001b[0mresults\u001b[0m\u001b[0;34m)\u001b[0m\u001b[0;34m\u001b[0m\u001b[0;34m\u001b[0m\u001b[0m\n",
            "\u001b[0;32m<ipython-input-37-edd2482ef3a8>\u001b[0m in \u001b[0;36mtrain_max_epochs\u001b[0;34m(epoch_goal, lr, mom, weight_decay, epoch_chunk, save)\u001b[0m\n\u001b[1;32m      6\u001b[0m   \u001b[0mn_batches\u001b[0m \u001b[0;34m=\u001b[0m \u001b[0mlen\u001b[0m\u001b[0;34m(\u001b[0m\u001b[0mlearn\u001b[0m\u001b[0;34m.\u001b[0m\u001b[0mrecorder\u001b[0m\u001b[0;34m.\u001b[0m\u001b[0mtrain_dl\u001b[0m\u001b[0;34m)\u001b[0m\u001b[0;34m\u001b[0m\u001b[0;34m\u001b[0m\u001b[0m\n\u001b[1;32m      7\u001b[0m   \u001b[0;32mwhile\u001b[0m \u001b[0mn_epochs_total\u001b[0m \u001b[0;34m<\u001b[0m \u001b[0mepoch_goal\u001b[0m\u001b[0;34m:\u001b[0m\u001b[0;34m\u001b[0m\u001b[0;34m\u001b[0m\u001b[0m\n\u001b[0;32m----> 8\u001b[0;31m     \u001b[0mn_epochs_total\u001b[0m \u001b[0;34m=\u001b[0m \u001b[0mload_latest_training\u001b[0m\u001b[0;34m(\u001b[0m\u001b[0mlearn\u001b[0m\u001b[0;34m,\u001b[0m \u001b[0mc_model\u001b[0m\u001b[0;34m)\u001b[0m\u001b[0;34m\u001b[0m\u001b[0;34m\u001b[0m\u001b[0m\n\u001b[0m\u001b[1;32m      9\u001b[0m     \u001b[0mprint\u001b[0m\u001b[0;34m(\u001b[0m\u001b[0;34m\"Best training so far: \"\u001b[0m\u001b[0;34m,\u001b[0m \u001b[0mn_epochs_total\u001b[0m\u001b[0;34m)\u001b[0m\u001b[0;34m\u001b[0m\u001b[0;34m\u001b[0m\u001b[0m\n\u001b[1;32m     10\u001b[0m \u001b[0;34m\u001b[0m\u001b[0m\n",
            "\u001b[0;32m<ipython-input-44-06eb383496de>\u001b[0m in \u001b[0;36mload_latest_training\u001b[0;34m(learn, c_model)\u001b[0m\n\u001b[1;32m     19\u001b[0m   \u001b[0;32melse\u001b[0m\u001b[0;34m:\u001b[0m\u001b[0;34m\u001b[0m\u001b[0;34m\u001b[0m\u001b[0m\n\u001b[1;32m     20\u001b[0m     \u001b[0mmax_epoch_ind\u001b[0m \u001b[0;34m=\u001b[0m \u001b[0;36m0\u001b[0m\u001b[0;34m\u001b[0m\u001b[0;34m\u001b[0m\u001b[0m\n\u001b[0;32m---> 21\u001b[0;31m   \u001b[0mlearn\u001b[0m\u001b[0;34m.\u001b[0m\u001b[0mload\u001b[0m\u001b[0;34m(\u001b[0m\u001b[0mdir\u001b[0m\u001b[0;34m+\u001b[0m\u001b[0;34m'/'\u001b[0m\u001b[0;34m+\u001b[0m\u001b[0mtraining_files\u001b[0m\u001b[0;34m[\u001b[0m\u001b[0mmax_epoch_ind\u001b[0m\u001b[0;34m]\u001b[0m\u001b[0;34m)\u001b[0m\u001b[0;34m\u001b[0m\u001b[0;34m\u001b[0m\u001b[0m\n\u001b[0m\u001b[1;32m     22\u001b[0m \u001b[0;34m\u001b[0m\u001b[0m\n\u001b[1;32m     23\u001b[0m \u001b[0;34m\u001b[0m\u001b[0m\n",
            "\u001b[0;32m/usr/local/lib/python3.6/dist-packages/fastai/basic_train.py\u001b[0m in \u001b[0;36mload\u001b[0;34m(self, file, device, strict, with_opt, purge, remove_module)\u001b[0m\n\u001b[1;32m    271\u001b[0m             \u001b[0mmodel_state\u001b[0m \u001b[0;34m=\u001b[0m \u001b[0mstate\u001b[0m\u001b[0;34m[\u001b[0m\u001b[0;34m'model'\u001b[0m\u001b[0;34m]\u001b[0m\u001b[0;34m\u001b[0m\u001b[0;34m\u001b[0m\u001b[0m\n\u001b[1;32m    272\u001b[0m             \u001b[0;32mif\u001b[0m \u001b[0mremove_module\u001b[0m\u001b[0;34m:\u001b[0m \u001b[0mmodel_state\u001b[0m \u001b[0;34m=\u001b[0m \u001b[0mremove_module_load\u001b[0m\u001b[0;34m(\u001b[0m\u001b[0mmodel_state\u001b[0m\u001b[0;34m)\u001b[0m\u001b[0;34m\u001b[0m\u001b[0;34m\u001b[0m\u001b[0m\n\u001b[0;32m--> 273\u001b[0;31m             \u001b[0mget_model\u001b[0m\u001b[0;34m(\u001b[0m\u001b[0mself\u001b[0m\u001b[0;34m.\u001b[0m\u001b[0mmodel\u001b[0m\u001b[0;34m)\u001b[0m\u001b[0;34m.\u001b[0m\u001b[0mload_state_dict\u001b[0m\u001b[0;34m(\u001b[0m\u001b[0mmodel_state\u001b[0m\u001b[0;34m,\u001b[0m \u001b[0mstrict\u001b[0m\u001b[0;34m=\u001b[0m\u001b[0mstrict\u001b[0m\u001b[0;34m)\u001b[0m\u001b[0;34m\u001b[0m\u001b[0;34m\u001b[0m\u001b[0m\n\u001b[0m\u001b[1;32m    274\u001b[0m             \u001b[0;32mif\u001b[0m \u001b[0mifnone\u001b[0m\u001b[0;34m(\u001b[0m\u001b[0mwith_opt\u001b[0m\u001b[0;34m,\u001b[0m\u001b[0;32mTrue\u001b[0m\u001b[0;34m)\u001b[0m\u001b[0;34m:\u001b[0m\u001b[0;34m\u001b[0m\u001b[0;34m\u001b[0m\u001b[0m\n\u001b[1;32m    275\u001b[0m                 \u001b[0;32mif\u001b[0m \u001b[0;32mnot\u001b[0m \u001b[0mhasattr\u001b[0m\u001b[0;34m(\u001b[0m\u001b[0mself\u001b[0m\u001b[0;34m,\u001b[0m \u001b[0;34m'opt'\u001b[0m\u001b[0;34m)\u001b[0m\u001b[0;34m:\u001b[0m \u001b[0mself\u001b[0m\u001b[0;34m.\u001b[0m\u001b[0mcreate_opt\u001b[0m\u001b[0;34m(\u001b[0m\u001b[0mdefaults\u001b[0m\u001b[0;34m.\u001b[0m\u001b[0mlr\u001b[0m\u001b[0;34m,\u001b[0m \u001b[0mself\u001b[0m\u001b[0;34m.\u001b[0m\u001b[0mwd\u001b[0m\u001b[0;34m)\u001b[0m\u001b[0;34m\u001b[0m\u001b[0;34m\u001b[0m\u001b[0m\n",
            "\u001b[0;32m/usr/local/lib/python3.6/dist-packages/torch/nn/modules/module.py\u001b[0m in \u001b[0;36mload_state_dict\u001b[0;34m(self, state_dict, strict)\u001b[0m\n\u001b[1;32m   1050\u001b[0m         \u001b[0;32mif\u001b[0m \u001b[0mlen\u001b[0m\u001b[0;34m(\u001b[0m\u001b[0merror_msgs\u001b[0m\u001b[0;34m)\u001b[0m \u001b[0;34m>\u001b[0m \u001b[0;36m0\u001b[0m\u001b[0;34m:\u001b[0m\u001b[0;34m\u001b[0m\u001b[0;34m\u001b[0m\u001b[0m\n\u001b[1;32m   1051\u001b[0m             raise RuntimeError('Error(s) in loading state_dict for {}:\\n\\t{}'.format(\n\u001b[0;32m-> 1052\u001b[0;31m                                self.__class__.__name__, \"\\n\\t\".join(error_msgs)))\n\u001b[0m\u001b[1;32m   1053\u001b[0m         \u001b[0;32mreturn\u001b[0m \u001b[0m_IncompatibleKeys\u001b[0m\u001b[0;34m(\u001b[0m\u001b[0mmissing_keys\u001b[0m\u001b[0;34m,\u001b[0m \u001b[0munexpected_keys\u001b[0m\u001b[0;34m)\u001b[0m\u001b[0;34m\u001b[0m\u001b[0;34m\u001b[0m\u001b[0m\n\u001b[1;32m   1054\u001b[0m \u001b[0;34m\u001b[0m\u001b[0m\n",
            "\u001b[0;31mRuntimeError\u001b[0m: Error(s) in loading state_dict for Sequential:\n\tsize mismatch for 1.8.weight: copying a param with shape torch.Size([18, 512]) from checkpoint, the shape in current model is torch.Size([10, 512]).\n\tsize mismatch for 1.8.bias: copying a param with shape torch.Size([18]) from checkpoint, the shape in current model is torch.Size([10])."
          ]
        },
        {
          "output_type": "display_data",
          "data": {
            "image/png": "[encoded data removed]",
            "text/plain": [
              "<Figure size 432x288 with 1 Axes>"
            ]
          },
          "metadata": {
            "tags": [],
            "needs_background": "light"
          }
        },
        {
          "output_type": "display_data",
          "data": {
            "image/png": "[encoded data removed]",
            "text/plain": [
              "<Figure size 432x288 with 1 Axes>"
            ]
          },
          "metadata": {
            "tags": [],
            "needs_background": "light"
          }
        },
        {
          "output_type": "display_data",
          "data": {
            "image/png": "[encoded data removed]",
            "text/plain": [
              "<Figure size 432x288 with 1 Axes>"
            ]
          },
          "metadata": {
            "tags": [],
            "needs_background": "light"
          }
        },
        {
          "output_type": "display_data",
          "data": {
            "image/png": "[encoded data removed]",
            "text/plain": [
              "<Figure size 432x288 with 1 Axes>"
            ]
          },
          "metadata": {
            "tags": [],
            "needs_background": "light"
          }
        },
        {
          "output_type": "display_data",
          "data": {
            "image/png": "[encoded data removed]",
            "text/plain": [
              "<Figure size 432x288 with 1 Axes>"
            ]
          },
          "metadata": {
            "tags": [],
            "needs_background": "light"
          }
        },
        {
          "output_type": "display_data",
          "data": {
            "image/png": "[encoded data removed]",
            "text/plain": [
              "<Figure size 432x288 with 1 Axes>"
            ]
          },
          "metadata": {
            "tags": [],
            "needs_background": "light"
          }
        }
      ]
    },
    {
      "cell_type": "code",
      "metadata": {
        "id": "-GcerKngql0m",
        "colab": {
          "base_uri": "https://localhost:8080/",
          "height": 231
        },
        "outputId": "6c1fdec4-8162-46a9-eef0-015712df50a1"
      },
      "source": [
        "import matplotlib.pyplot as plt\r\n",
        "\r\n",
        "print(results['11'][0])\r\n",
        "\r\n",
        "plt.plot(range(len(results['11'][0])), results['11'][0], '-b')\r\n",
        "plt.plot(range(len(results['12'][0])), results['12'][0], '-b')\r\n",
        "plt.plot(range(len(results['13'][0])), results['13'][0], '-b')\r\n",
        "plt.plot(range(len(results['14'][0])), results['14'][0], '-b')\r\n",
        "\r\n",
        "plt.plot(range(len(results['11'][0])), results['11'][1], '-r')\r\n",
        "plt.plot(range(len(results['12'][0])), results['12'][1], '-r')\r\n",
        "plt.plot(range(len(results['13'][0])), results['13'][1], '-r')\r\n",
        "plt.plot(range(len(results['14'][0])), results['14'][1], '-r')\r\n",
        "\r\n",
        "plt.title(\"Train and Valid Losses for different skipping values\")\r\n",
        "plt.xlabel(\"epoch\")\r\n",
        "plt.ylabel(\"loss\")\r\n",
        "plt.show()"
      ],
      "execution_count": null,
      "outputs": [
        {
          "output_type": "error",
          "ename": "KeyError",
          "evalue": "ignored",
          "traceback": [
            "\u001b[0;31m---------------------------------------------------------------------------\u001b[0m",
            "\u001b[0;31mKeyError\u001b[0m                                  Traceback (most recent call last)",
            "\u001b[0;32m<ipython-input-72-98d88bec029f>\u001b[0m in \u001b[0;36m<module>\u001b[0;34m()\u001b[0m\n\u001b[1;32m      1\u001b[0m \u001b[0;32mimport\u001b[0m \u001b[0mmatplotlib\u001b[0m\u001b[0;34m.\u001b[0m\u001b[0mpyplot\u001b[0m \u001b[0;32mas\u001b[0m \u001b[0mplt\u001b[0m\u001b[0;34m\u001b[0m\u001b[0;34m\u001b[0m\u001b[0m\n\u001b[1;32m      2\u001b[0m \u001b[0;34m\u001b[0m\u001b[0m\n\u001b[0;32m----> 3\u001b[0;31m \u001b[0mprint\u001b[0m\u001b[0;34m(\u001b[0m\u001b[0mresults\u001b[0m\u001b[0;34m[\u001b[0m\u001b[0;34m'11'\u001b[0m\u001b[0;34m]\u001b[0m\u001b[0;34m[\u001b[0m\u001b[0;36m0\u001b[0m\u001b[0;34m]\u001b[0m\u001b[0;34m)\u001b[0m\u001b[0;34m\u001b[0m\u001b[0;34m\u001b[0m\u001b[0m\n\u001b[0m\u001b[1;32m      4\u001b[0m \u001b[0;34m\u001b[0m\u001b[0m\n\u001b[1;32m      5\u001b[0m \u001b[0mplt\u001b[0m\u001b[0;34m.\u001b[0m\u001b[0mplot\u001b[0m\u001b[0;34m(\u001b[0m\u001b[0mrange\u001b[0m\u001b[0;34m(\u001b[0m\u001b[0mlen\u001b[0m\u001b[0;34m(\u001b[0m\u001b[0mresults\u001b[0m\u001b[0;34m[\u001b[0m\u001b[0;34m'11'\u001b[0m\u001b[0;34m]\u001b[0m\u001b[0;34m[\u001b[0m\u001b[0;36m0\u001b[0m\u001b[0;34m]\u001b[0m\u001b[0;34m)\u001b[0m\u001b[0;34m)\u001b[0m\u001b[0;34m,\u001b[0m \u001b[0mresults\u001b[0m\u001b[0;34m[\u001b[0m\u001b[0;34m'11'\u001b[0m\u001b[0;34m]\u001b[0m\u001b[0;34m[\u001b[0m\u001b[0;36m0\u001b[0m\u001b[0;34m]\u001b[0m\u001b[0;34m,\u001b[0m \u001b[0;34m'-b'\u001b[0m\u001b[0;34m)\u001b[0m\u001b[0;34m\u001b[0m\u001b[0;34m\u001b[0m\u001b[0m\n",
            "\u001b[0;31mKeyError\u001b[0m: '11'"
          ]
        }
      ]
    },
    {
      "cell_type": "code",
      "metadata": {
        "colab": {
          "base_uri": "https://localhost:8080/",
          "height": 370
        },
        "id": "gOdk-8KkPrKn",
        "outputId": "6bdbaa8c-0425-4f1d-d864-b0e8be405fba"
      },
      "source": [
        "create_custom_learner(folder, d_type, seed)\r\n",
        "train_max_epochs(1, 0.1, 0.1, 0.1, 1, save = False)"
      ],
      "execution_count": null,
      "outputs": [
        {
          "output_type": "stream",
          "text": [
            "Number of classes:  0\n",
            "[]\n",
            "No pre-existing data raw_data_transfering_200_training_seedseed1111. Saving in dictionary\n"
          ],
          "name": "stdout"
        },
        {
          "output_type": "error",
          "ename": "ValueError",
          "evalue": "ignored",
          "traceback": [
            "\u001b[0;31m---------------------------------------------------------------------------\u001b[0m",
            "\u001b[0;31mValueError\u001b[0m                                Traceback (most recent call last)",
            "\u001b[0;32m<ipython-input-58-d68f5675a4c0>\u001b[0m in \u001b[0;36m<module>\u001b[0;34m()\u001b[0m\n\u001b[0;32m----> 1\u001b[0;31m \u001b[0mcreate_custom_learner\u001b[0m\u001b[0;34m(\u001b[0m\u001b[0mfolder\u001b[0m\u001b[0;34m,\u001b[0m \u001b[0md_type\u001b[0m\u001b[0;34m,\u001b[0m \u001b[0mseed\u001b[0m\u001b[0;34m)\u001b[0m\u001b[0;34m\u001b[0m\u001b[0;34m\u001b[0m\u001b[0m\n\u001b[0m\u001b[1;32m      2\u001b[0m \u001b[0mtrain_max_epochs\u001b[0m\u001b[0;34m(\u001b[0m\u001b[0;36m1\u001b[0m\u001b[0;34m,\u001b[0m \u001b[0;36m0.1\u001b[0m\u001b[0;34m,\u001b[0m \u001b[0;36m0.1\u001b[0m\u001b[0;34m,\u001b[0m \u001b[0;36m0.1\u001b[0m\u001b[0;34m,\u001b[0m \u001b[0;36m1\u001b[0m\u001b[0;34m,\u001b[0m \u001b[0msave\u001b[0m \u001b[0;34m=\u001b[0m \u001b[0;32mFalse\u001b[0m\u001b[0;34m)\u001b[0m\u001b[0;34m\u001b[0m\u001b[0;34m\u001b[0m\u001b[0m\n",
            "\u001b[0;32m<ipython-input-45-eab10be393a0>\u001b[0m in \u001b[0;36mcreate_custom_learner\u001b[0;34m(folder, d_type, seed, show_model, batch_size, binning, bin_size, skip_amount, opt, save)\u001b[0m\n\u001b[1;32m      1\u001b[0m \u001b[0;32mdef\u001b[0m \u001b[0mcreate_custom_learner\u001b[0m\u001b[0;34m(\u001b[0m\u001b[0mfolder\u001b[0m\u001b[0;34m,\u001b[0m\u001b[0md_type\u001b[0m\u001b[0;34m,\u001b[0m\u001b[0mseed\u001b[0m\u001b[0;34m,\u001b[0m \u001b[0mshow_model\u001b[0m\u001b[0;34m=\u001b[0m\u001b[0;32mFalse\u001b[0m\u001b[0;34m,\u001b[0m \u001b[0mbatch_size\u001b[0m\u001b[0;34m=\u001b[0m\u001b[0;36m1\u001b[0m\u001b[0;34m,\u001b[0m \u001b[0mbinning\u001b[0m\u001b[0;34m=\u001b[0m\u001b[0;32mFalse\u001b[0m\u001b[0;34m,\u001b[0m\u001b[0mbin_size\u001b[0m\u001b[0;34m=\u001b[0m\u001b[0;36m1\u001b[0m\u001b[0;34m,\u001b[0m \u001b[0mskip_amount\u001b[0m\u001b[0;34m=\u001b[0m\u001b[0;36m0\u001b[0m\u001b[0;34m,\u001b[0m \u001b[0mopt\u001b[0m\u001b[0;34m=\u001b[0m\u001b[0moptim\u001b[0m\u001b[0;34m.\u001b[0m\u001b[0mAdam\u001b[0m\u001b[0;34m,\u001b[0m \u001b[0msave\u001b[0m\u001b[0;34m=\u001b[0m\u001b[0;32mTrue\u001b[0m\u001b[0;34m)\u001b[0m\u001b[0;34m:\u001b[0m\u001b[0;34m\u001b[0m\u001b[0;34m\u001b[0m\u001b[0m\n\u001b[0;32m----> 2\u001b[0;31m   \u001b[0mdatabunch\u001b[0m \u001b[0;34m=\u001b[0m \u001b[0mprepare_datasets\u001b[0m\u001b[0;34m(\u001b[0m\u001b[0mfolder\u001b[0m\u001b[0;34m,\u001b[0m \u001b[0md_type\u001b[0m\u001b[0;34m,\u001b[0m \u001b[0mseed\u001b[0m\u001b[0;34m,\u001b[0m \u001b[0mbinning\u001b[0m\u001b[0;34m=\u001b[0m\u001b[0mbinning\u001b[0m\u001b[0;34m,\u001b[0m \u001b[0mbatch_size\u001b[0m\u001b[0;34m=\u001b[0m\u001b[0mbatch_size\u001b[0m\u001b[0;34m,\u001b[0m \u001b[0mbin_size\u001b[0m\u001b[0;34m=\u001b[0m\u001b[0mbin_size\u001b[0m\u001b[0;34m,\u001b[0m \u001b[0mskip_amount\u001b[0m\u001b[0;34m=\u001b[0m\u001b[0mskip_amount\u001b[0m\u001b[0;34m)\u001b[0m\u001b[0;34m\u001b[0m\u001b[0;34m\u001b[0m\u001b[0m\n\u001b[0m\u001b[1;32m      3\u001b[0m   \u001b[0;32mglobal\u001b[0m \u001b[0mlearn\u001b[0m\u001b[0;34m\u001b[0m\u001b[0;34m\u001b[0m\u001b[0m\n\u001b[1;32m      4\u001b[0m   \u001b[0mlearn\u001b[0m \u001b[0;34m=\u001b[0m \u001b[0mLearner\u001b[0m\u001b[0;34m(\u001b[0m\u001b[0mdatabunch\u001b[0m\u001b[0;34m,\u001b[0m \u001b[0mNNet\u001b[0m\u001b[0;34m,\u001b[0m \u001b[0mmetrics\u001b[0m\u001b[0;34m=\u001b[0m\u001b[0;34m[\u001b[0m\u001b[0maccuracy\u001b[0m\u001b[0;34m]\u001b[0m\u001b[0;34m,\u001b[0m \u001b[0mloss_func\u001b[0m\u001b[0;34m=\u001b[0m\u001b[0mtorch\u001b[0m\u001b[0;34m.\u001b[0m\u001b[0mnn\u001b[0m\u001b[0;34m.\u001b[0m\u001b[0mCrossEntropyLoss\u001b[0m\u001b[0;34m(\u001b[0m\u001b[0;34m)\u001b[0m\u001b[0;34m,\u001b[0m \u001b[0mopt_func\u001b[0m\u001b[0;34m=\u001b[0m\u001b[0mopt\u001b[0m\u001b[0;34m,\u001b[0m \u001b[0mpretrained\u001b[0m\u001b[0;34m=\u001b[0m\u001b[0;32mFalse\u001b[0m\u001b[0;34m)\u001b[0m\u001b[0;34m\u001b[0m\u001b[0;34m\u001b[0m\u001b[0m\n\u001b[1;32m      5\u001b[0m   \u001b[0;32mglobal\u001b[0m \u001b[0mc_model\u001b[0m\u001b[0;34m\u001b[0m\u001b[0;34m\u001b[0m\u001b[0m\n",
            "\u001b[0;32m<ipython-input-38-3f5ebe0cee22>\u001b[0m in \u001b[0;36mprepare_datasets\u001b[0;34m(folder, d_type, seed, batch_size, binning, bin_size, skip_amount, extr)\u001b[0m\n\u001b[1;32m    208\u001b[0m   \u001b[0mloader_validation\u001b[0m \u001b[0;34m=\u001b[0m \u001b[0mThreeDDataset\u001b[0m\u001b[0;34m(\u001b[0m\u001b[0mtensors_validation\u001b[0m\u001b[0;34m,\u001b[0m \u001b[0mlabels\u001b[0m\u001b[0;34m)\u001b[0m\u001b[0;34m\u001b[0m\u001b[0;34m\u001b[0m\u001b[0m\n\u001b[1;32m    209\u001b[0m   \u001b[0mloader_testing\u001b[0m \u001b[0;34m=\u001b[0m \u001b[0mThreeDDataset\u001b[0m\u001b[0;34m(\u001b[0m\u001b[0mtensors_testing\u001b[0m\u001b[0;34m,\u001b[0m \u001b[0mlabels\u001b[0m\u001b[0;34m)\u001b[0m\u001b[0;34m\u001b[0m\u001b[0;34m\u001b[0m\u001b[0m\n\u001b[0;32m--> 210\u001b[0;31m   \u001b[0mdatabunch\u001b[0m \u001b[0;34m=\u001b[0m \u001b[0mDataBunch\u001b[0m\u001b[0;34m.\u001b[0m\u001b[0mcreate\u001b[0m\u001b[0;34m(\u001b[0m\u001b[0mloader_training\u001b[0m\u001b[0;34m,\u001b[0m \u001b[0mloader_validation\u001b[0m\u001b[0;34m,\u001b[0m \u001b[0mloader_testing\u001b[0m\u001b[0;34m,\u001b[0m \u001b[0mbs\u001b[0m\u001b[0;34m=\u001b[0m\u001b[0mbs\u001b[0m\u001b[0;34m,\u001b[0m \u001b[0mnum_workers\u001b[0m\u001b[0;34m=\u001b[0m\u001b[0;36m0\u001b[0m\u001b[0;34m)\u001b[0m\u001b[0;34m\u001b[0m\u001b[0;34m\u001b[0m\u001b[0m\n\u001b[0m\u001b[1;32m    211\u001b[0m \u001b[0;34m\u001b[0m\u001b[0m\n\u001b[1;32m    212\u001b[0m   \u001b[0;32mreturn\u001b[0m \u001b[0mdatabunch\u001b[0m\u001b[0;34m\u001b[0m\u001b[0;34m\u001b[0m\u001b[0m\n",
            "\u001b[0;32m/usr/local/lib/python3.7/dist-packages/fastai/basic_data.py\u001b[0m in \u001b[0;36mcreate\u001b[0;34m(cls, train_ds, valid_ds, test_ds, path, bs, val_bs, num_workers, dl_tfms, device, collate_fn, no_check, **dl_kwargs)\u001b[0m\n\u001b[1;32m    117\u001b[0m         \u001b[0mval_bs\u001b[0m \u001b[0;34m=\u001b[0m \u001b[0mifnone\u001b[0m\u001b[0;34m(\u001b[0m\u001b[0mval_bs\u001b[0m\u001b[0;34m,\u001b[0m \u001b[0mbs\u001b[0m\u001b[0;34m)\u001b[0m\u001b[0;34m\u001b[0m\u001b[0;34m\u001b[0m\u001b[0m\n\u001b[1;32m    118\u001b[0m         dls = [DataLoader(d, b, shuffle=s, drop_last=s, num_workers=num_workers, **dl_kwargs) for d,b,s in\n\u001b[0;32m--> 119\u001b[0;31m                zip(datasets, (bs,val_bs,val_bs,val_bs), (True,False,False,False)) if d is not None]\n\u001b[0m\u001b[1;32m    120\u001b[0m         \u001b[0;32mreturn\u001b[0m \u001b[0mcls\u001b[0m\u001b[0;34m(\u001b[0m\u001b[0;34m*\u001b[0m\u001b[0mdls\u001b[0m\u001b[0;34m,\u001b[0m \u001b[0mpath\u001b[0m\u001b[0;34m=\u001b[0m\u001b[0mpath\u001b[0m\u001b[0;34m,\u001b[0m \u001b[0mdevice\u001b[0m\u001b[0;34m=\u001b[0m\u001b[0mdevice\u001b[0m\u001b[0;34m,\u001b[0m \u001b[0mdl_tfms\u001b[0m\u001b[0;34m=\u001b[0m\u001b[0mdl_tfms\u001b[0m\u001b[0;34m,\u001b[0m \u001b[0mcollate_fn\u001b[0m\u001b[0;34m=\u001b[0m\u001b[0mcollate_fn\u001b[0m\u001b[0;34m,\u001b[0m \u001b[0mno_check\u001b[0m\u001b[0;34m=\u001b[0m\u001b[0mno_check\u001b[0m\u001b[0;34m)\u001b[0m\u001b[0;34m\u001b[0m\u001b[0;34m\u001b[0m\u001b[0m\n\u001b[1;32m    121\u001b[0m \u001b[0;34m\u001b[0m\u001b[0m\n",
            "\u001b[0;32m/usr/local/lib/python3.7/dist-packages/fastai/basic_data.py\u001b[0m in \u001b[0;36m<listcomp>\u001b[0;34m(.0)\u001b[0m\n\u001b[1;32m    117\u001b[0m         \u001b[0mval_bs\u001b[0m \u001b[0;34m=\u001b[0m \u001b[0mifnone\u001b[0m\u001b[0;34m(\u001b[0m\u001b[0mval_bs\u001b[0m\u001b[0;34m,\u001b[0m \u001b[0mbs\u001b[0m\u001b[0;34m)\u001b[0m\u001b[0;34m\u001b[0m\u001b[0;34m\u001b[0m\u001b[0m\n\u001b[1;32m    118\u001b[0m         dls = [DataLoader(d, b, shuffle=s, drop_last=s, num_workers=num_workers, **dl_kwargs) for d,b,s in\n\u001b[0;32m--> 119\u001b[0;31m                zip(datasets, (bs,val_bs,val_bs,val_bs), (True,False,False,False)) if d is not None]\n\u001b[0m\u001b[1;32m    120\u001b[0m         \u001b[0;32mreturn\u001b[0m \u001b[0mcls\u001b[0m\u001b[0;34m(\u001b[0m\u001b[0;34m*\u001b[0m\u001b[0mdls\u001b[0m\u001b[0;34m,\u001b[0m \u001b[0mpath\u001b[0m\u001b[0;34m=\u001b[0m\u001b[0mpath\u001b[0m\u001b[0;34m,\u001b[0m \u001b[0mdevice\u001b[0m\u001b[0;34m=\u001b[0m\u001b[0mdevice\u001b[0m\u001b[0;34m,\u001b[0m \u001b[0mdl_tfms\u001b[0m\u001b[0;34m=\u001b[0m\u001b[0mdl_tfms\u001b[0m\u001b[0;34m,\u001b[0m \u001b[0mcollate_fn\u001b[0m\u001b[0;34m=\u001b[0m\u001b[0mcollate_fn\u001b[0m\u001b[0;34m,\u001b[0m \u001b[0mno_check\u001b[0m\u001b[0;34m=\u001b[0m\u001b[0mno_check\u001b[0m\u001b[0;34m)\u001b[0m\u001b[0;34m\u001b[0m\u001b[0;34m\u001b[0m\u001b[0m\n\u001b[1;32m    121\u001b[0m \u001b[0;34m\u001b[0m\u001b[0m\n",
            "\u001b[0;32m/usr/local/lib/python3.7/dist-packages/fastai/basic_data.py\u001b[0m in \u001b[0;36mintercept_args\u001b[0;34m(self, dataset, batch_size, shuffle, sampler, batch_sampler, num_workers, collate_fn, pin_memory, drop_last, timeout, worker_init_fn)\u001b[0m\n\u001b[1;32m     14\u001b[0m                         \u001b[0;34m'num_workers'\u001b[0m\u001b[0;34m:\u001b[0m\u001b[0mnum_workers\u001b[0m\u001b[0;34m,\u001b[0m \u001b[0;34m'collate_fn'\u001b[0m\u001b[0;34m:\u001b[0m\u001b[0mcollate_fn\u001b[0m\u001b[0;34m,\u001b[0m \u001b[0;34m'pin_memory'\u001b[0m\u001b[0;34m:\u001b[0m\u001b[0mpin_memory\u001b[0m\u001b[0;34m,\u001b[0m\u001b[0;34m\u001b[0m\u001b[0;34m\u001b[0m\u001b[0m\n\u001b[1;32m     15\u001b[0m                         'drop_last': drop_last, 'timeout':timeout, 'worker_init_fn':worker_init_fn}\n\u001b[0;32m---> 16\u001b[0;31m     \u001b[0mold_dl_init\u001b[0m\u001b[0;34m(\u001b[0m\u001b[0mself\u001b[0m\u001b[0;34m,\u001b[0m \u001b[0mdataset\u001b[0m\u001b[0;34m,\u001b[0m \u001b[0;34m**\u001b[0m\u001b[0mself\u001b[0m\u001b[0;34m.\u001b[0m\u001b[0minit_kwargs\u001b[0m\u001b[0;34m)\u001b[0m\u001b[0;34m\u001b[0m\u001b[0;34m\u001b[0m\u001b[0m\n\u001b[0m\u001b[1;32m     17\u001b[0m \u001b[0;34m\u001b[0m\u001b[0m\n\u001b[1;32m     18\u001b[0m \u001b[0mtorch\u001b[0m\u001b[0;34m.\u001b[0m\u001b[0mutils\u001b[0m\u001b[0;34m.\u001b[0m\u001b[0mdata\u001b[0m\u001b[0;34m.\u001b[0m\u001b[0mDataLoader\u001b[0m\u001b[0;34m.\u001b[0m\u001b[0m__init__\u001b[0m \u001b[0;34m=\u001b[0m \u001b[0mintercept_args\u001b[0m\u001b[0;34m\u001b[0m\u001b[0;34m\u001b[0m\u001b[0m\n",
            "\u001b[0;32m/usr/local/lib/python3.7/dist-packages/torch/utils/data/dataloader.py\u001b[0m in \u001b[0;36m__init__\u001b[0;34m(self, dataset, batch_size, shuffle, sampler, batch_sampler, num_workers, collate_fn, pin_memory, drop_last, timeout, worker_init_fn, multiprocessing_context, generator, prefetch_factor, persistent_workers)\u001b[0m\n\u001b[1;32m    260\u001b[0m                     \u001b[0;31m# Cannot statically verify that dataset is Sized\u001b[0m\u001b[0;34m\u001b[0m\u001b[0;34m\u001b[0m\u001b[0;34m\u001b[0m\u001b[0m\n\u001b[1;32m    261\u001b[0m                     \u001b[0;31m# Somewhat related: see NOTE [ Lack of Default `__len__` in Python Abstract Base Classes ]\u001b[0m\u001b[0;34m\u001b[0m\u001b[0;34m\u001b[0m\u001b[0;34m\u001b[0m\u001b[0m\n\u001b[0;32m--> 262\u001b[0;31m                     \u001b[0msampler\u001b[0m \u001b[0;34m=\u001b[0m \u001b[0mRandomSampler\u001b[0m\u001b[0;34m(\u001b[0m\u001b[0mdataset\u001b[0m\u001b[0;34m,\u001b[0m \u001b[0mgenerator\u001b[0m\u001b[0;34m=\u001b[0m\u001b[0mgenerator\u001b[0m\u001b[0;34m)\u001b[0m  \u001b[0;31m# type: ignore\u001b[0m\u001b[0;34m\u001b[0m\u001b[0;34m\u001b[0m\u001b[0m\n\u001b[0m\u001b[1;32m    263\u001b[0m                 \u001b[0;32melse\u001b[0m\u001b[0;34m:\u001b[0m\u001b[0;34m\u001b[0m\u001b[0;34m\u001b[0m\u001b[0m\n\u001b[1;32m    264\u001b[0m                     \u001b[0msampler\u001b[0m \u001b[0;34m=\u001b[0m \u001b[0mSequentialSampler\u001b[0m\u001b[0;34m(\u001b[0m\u001b[0mdataset\u001b[0m\u001b[0;34m)\u001b[0m\u001b[0;34m\u001b[0m\u001b[0;34m\u001b[0m\u001b[0m\n",
            "\u001b[0;32m/usr/local/lib/python3.7/dist-packages/torch/utils/data/sampler.py\u001b[0m in \u001b[0;36m__init__\u001b[0;34m(self, data_source, replacement, num_samples, generator)\u001b[0m\n\u001b[1;32m    102\u001b[0m         \u001b[0;32mif\u001b[0m \u001b[0;32mnot\u001b[0m \u001b[0misinstance\u001b[0m\u001b[0;34m(\u001b[0m\u001b[0mself\u001b[0m\u001b[0;34m.\u001b[0m\u001b[0mnum_samples\u001b[0m\u001b[0;34m,\u001b[0m \u001b[0mint\u001b[0m\u001b[0;34m)\u001b[0m \u001b[0;32mor\u001b[0m \u001b[0mself\u001b[0m\u001b[0;34m.\u001b[0m\u001b[0mnum_samples\u001b[0m \u001b[0;34m<=\u001b[0m \u001b[0;36m0\u001b[0m\u001b[0;34m:\u001b[0m\u001b[0;34m\u001b[0m\u001b[0;34m\u001b[0m\u001b[0m\n\u001b[1;32m    103\u001b[0m             raise ValueError(\"num_samples should be a positive integer \"\n\u001b[0;32m--> 104\u001b[0;31m                              \"value, but got num_samples={}\".format(self.num_samples))\n\u001b[0m\u001b[1;32m    105\u001b[0m \u001b[0;34m\u001b[0m\u001b[0m\n\u001b[1;32m    106\u001b[0m     \u001b[0;34m@\u001b[0m\u001b[0mproperty\u001b[0m\u001b[0;34m\u001b[0m\u001b[0;34m\u001b[0m\u001b[0m\n",
            "\u001b[0;31mValueError\u001b[0m: num_samples should be a positive integer value, but got num_samples=0"
          ]
        }
      ]
    },
    {
      "cell_type": "markdown",
      "metadata": {
        "id": "s2iP569WpeKc"
      },
      "source": [
        "# Interpretation"
      ]
    },
    {
      "cell_type": "code",
      "metadata": {
        "id": "tOXsaUPdpeKd"
      },
      "source": [
        "def show_confs(c_model):\r\n",
        "  dir = '/content/drive/MyDrive/ModelStages/'+c_model\r\n",
        "  epochs = !ls -l {dir}\r\n",
        "  epochs.reverse()\r\n",
        "  epochs.pop()\r\n",
        "\r\n",
        "  max_epoch_value = 0\r\n",
        "  for i in range(len(epochs)):\r\n",
        "    epochs[i] = epochs[i].rsplit(' ',1)[1]\r\n",
        "    epochs[i] = epochs[i].rsplit('.',1)[0]\r\n",
        "  print(epochs)\r\n",
        "\r\n",
        "  for epoch in epochs:\r\n",
        "    learn.load('/content/drive/MyDrive/ModelStages/'+c_model+'/'+epoch);\r\n",
        "    preds,y,losses = learn.get_preds(with_loss=True)\r\n",
        "    interp = ClassificationInterpretation(learn,preds,y,losses)\r\n",
        "    interp.plot_confusion_matrix(figsize=(7,7))"
      ],
      "execution_count": null,
      "outputs": []
    },
    {
      "cell_type": "code",
      "metadata": {
        "id": "ynclH65EOwUu"
      },
      "source": [
        "#show_confs(c_model)\r\n",
        "\r\n",
        "#learn.load('/content/drive/MyDrive/ModelStages/'+c_model+'/epochs-10');\r\n",
        "learn.load('/content/drive/MyDrive/ModelStages/'+'CONV2D-resnet18_error_rate_loss=default'+'/epochs-210');\r\n",
        "preds,y,losses = learn.get_preds(with_loss=True)\r\n",
        "interp = ClassificationInterpretation(learn,preds,y,losses)\r\n",
        "interp.plot_confusion_matrix(figsize=(7,7))"
      ],
      "execution_count": null,
      "outputs": []
    },
    {
      "cell_type": "markdown",
      "metadata": {
        "id": "cvwdpOPp1VLc"
      },
      "source": [
        "##General Testing Area"
      ]
    },
    {
      "cell_type": "code",
      "metadata": {
        "id": "zB7MOj3Z1TS7"
      },
      "source": [
        "folder = 'raw_data_transfering_200_'\r\n",
        "d_type = d_type_opt[0]\r\n",
        "\r\n",
        "create_learner(folder, d_type, save=False)\r\n",
        "\r\n",
        "preds,targs = learn.get_preds()\r\n",
        "print(targs)\r\n",
        "print(preds)\r\n",
        "print(len(preds))\r\n",
        "\r\n",
        "learn.pred_batch()"
      ],
      "execution_count": null,
      "outputs": []
    }
  ]
}